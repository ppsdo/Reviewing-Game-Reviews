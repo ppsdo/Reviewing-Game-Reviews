{
 "cells": [
  {
   "cell_type": "code",
   "execution_count": 1,
   "id": "95ab9d01-3d0f-443f-98c0-f84b17760ba5",
   "metadata": {
    "tags": []
   },
   "outputs": [],
   "source": [
    "from pathlib import Path\n",
    "import sys\n",
    "\n",
    "sys.path.append(str(Path().absolute().parent))\n",
    "# sys.path"
   ]
  },
  {
   "cell_type": "markdown",
   "id": "4c248dac-b919-4d8a-b70c-a010fa5420ea",
   "metadata": {},
   "source": [
    "## Ingestion\n",
    "\n",
    "Includes:\n",
    "- Requesting `playlistItems`\n",
    "- Polling\n",
    "- Making and executing the request\n",
    "- Storing the raw information"
   ]
  },
  {
   "cell_type": "markdown",
   "id": "42315457-3735-463a-b31e-6211c1891a6a",
   "metadata": {},
   "source": [
    "### Requesting Playlist Items\n",
    "\n",
    "Concerned with making the request. The next section includes functions for logging requests that the `request_playlist` function can use.\n",
    "\n",
    "Polling should be last. It uses this and the next section as building blocks. Also transitions perfectly into transformation, as the JSON files need to be compiled."
   ]
  },
  {
   "cell_type": "code",
   "execution_count": 5,
   "id": "bc8505c3-45e4-43de-a759-899954325342",
   "metadata": {
    "tags": []
   },
   "outputs": [],
   "source": [
    "import api_key\n",
    "import json\n",
    "\n",
    "# need to actually send the request to youtube. params filled out, except for pageToken. logging handled in next section\n",
    "def request_playlist(youtube, maxResults=50, pageToken=\"\"):\n",
    "    '''\n",
    "    Request all information on maxResults number of playlistItems from IGN game reviews playlist using youtube and a specific pageToken.    \n",
    "    \n",
    "    If supplied with just youtube, effectively just reads 50 items from the playlist at a time.\n",
    "    '''\n",
    "    # Note that in just about every case you would want maxResults to be 50\n",
    "    part='contentDetails,id,snippet,status' # static\n",
    "    playlistId=\"PLraFbwCoisJBTl0oXn8UoUam5HXWUZ7ES\" # static\n",
    "    \n",
    "    params = {\n",
    "        \"part\": part,\n",
    "        \"playlistId\": playlistId,\n",
    "        \"maxResults\": maxResults,\n",
    "        \"pageToken\": pageToken\n",
    "    }\n",
    "    \n",
    "    request = youtube.playlistItems().list(**params)\n",
    "    request_number = generate_request_number()\n",
    "    \n",
    "    time_sent = get_current_time()\n",
    "    response = request.execute()\n",
    "    time_received = get_current_time()\n",
    "    \n",
    "    # log to ./db/response.csv\n",
    "    md = {}\n",
    "    md[\"requestNumber\"] = request_number\n",
    "    md[\"timeSent\"] = time_sent\n",
    "    md[\"timeReceived\"] = time_received\n",
    "    md[\"params\"] = {**params}\n",
    "    append_response_csv(md)\n",
    "    \n",
    "    # log to raw, a directory of jsons. save the conversion from json to csv in the transformation stage.\n",
    "    response[\"requestNumber\"] = request_number\n",
    "    with open(f\"./raw/{response['requestNumber']}.json\", \"w\") as fp:\n",
    "        json.dump(response, fp)\n",
    "    \n",
    "    return response"
   ]
  },
  {
   "cell_type": "markdown",
   "id": "449d9434-92c5-448b-baf3-3ba4a74253f6",
   "metadata": {},
   "source": [
    "### Log responses from `request_playlist`\n",
    "\n",
    "The following information are recorded when making and receiving a request and response:\n",
    "- `requestNumber`\n",
    "- `timeSent`\n",
    "- `timeReceived`\n",
    "- `params.part`\n",
    "- `params.playlistId`\n",
    "- `params.maxResults`\n",
    "- `params.pageToken`\n",
    "\n",
    "Logging also helps with handing out request numbers."
   ]
  },
  {
   "cell_type": "code",
   "execution_count": 6,
   "id": "7dd061eb-aa8f-482f-89dd-705da877ef5b",
   "metadata": {
    "tags": []
   },
   "outputs": [],
   "source": [
    "# need a place to log info\n",
    "\n",
    "import pandas as pd\n",
    "\n",
    "# init/reset response.csv. careful with this function.\n",
    "def reset_response_csv(target=\"./db/response.csv\"):\n",
    "    '''\n",
    "    Writes to target csv a dataframe with only columns/headers, no rows.\n",
    "    Returns the dataframe used to write to the csv.\n",
    "    \n",
    "    Each record is a request made and received from the request_playlist() function.\n",
    "    '''\n",
    "    # dummy for keys, copied over from request_playlist()\n",
    "    params = {\n",
    "        \"part\": 1,\n",
    "        \"playlistId\": 2,\n",
    "        \"maxResults\": 3,\n",
    "        \"pageToken\": 4\n",
    "    }\n",
    "    headers_df = pd.DataFrame(columns=[\n",
    "        'requestNumber',\n",
    "        'timeSent',\n",
    "        'timeReceived',\n",
    "        *[f'params.{k}' for k in params.keys()]\n",
    "    ])\n",
    "    \n",
    "    headers_df.to_csv(target, index=False)\n",
    "    return headers_df\n",
    "\n",
    "# edit response.csv\n",
    "def append_response_csv(data_dict, target=\"./db/response.csv\"):\n",
    "    df = pd.json_normalize(data_dict)\n",
    "    df.to_csv(target, index=False, mode='a', header=False)\n",
    "    return df\n",
    "\n",
    "# add time requested to the received response\n",
    "from datetime import datetime, timezone\n",
    "\n",
    "# just use utc time. \"central\"\n",
    "def get_current_time(timezone=timezone.utc):\n",
    "    now = datetime.now(timezone)\n",
    "    return now\n",
    "\n",
    "def serialize_time(dt):\n",
    "    return dt.isoformat()\n",
    "\n",
    "def deserialize_datetime_string(dt_string):\n",
    "    return dt_string.fromisoformat()\n",
    "\n",
    "# add request number\n",
    "def generate_request_number(source=\"./db/response.csv\"):\n",
    "    request_numbers = pd.read_csv(source)['requestNumber']\n",
    "    generated = request_numbers.max() + 1\n",
    "    if pd.isna(generated):\n",
    "        # na + 1 = na\n",
    "        generated = 0\n",
    "    return generated\n",
    "\n",
    "# md = {}\n",
    "# md[\"requestNumber\"] = 1\n",
    "# md[\"timeSent\"] = 0\n",
    "# md[\"timeReceived\"] = 2\n",
    "# md[\"params\"] = {**params}\n",
    "\n",
    "# append_response_csv(md)"
   ]
  },
  {
   "cell_type": "markdown",
   "id": "c45525ab-fb28-47c2-916c-5bf91006e9bb",
   "metadata": {},
   "source": [
    "### Polling\n",
    "\n",
    "Part ingestion, as requests will need to be requested from youtube and stored in the `raw` folder.\n",
    "Part transformation, as will need to compile a list of old video ids to see if there are new videos in the playlist."
   ]
  },
  {
   "cell_type": "code",
   "execution_count": 251,
   "id": "93b27cd9-46f5-4315-b197-995bd5788b63",
   "metadata": {
    "tags": []
   },
   "outputs": [],
   "source": [
    "# need a place to store our playlist items\n",
    "\n",
    "def reset_playlist_csv(target=\"./db/playlist.csv\"):\n",
    "    cols = ['kind',\n",
    " 'etag',\n",
    " 'id',\n",
    " 'snippet.publishedAt',\n",
    " 'snippet.channelId',\n",
    " 'snippet.title',\n",
    " 'snippet.description',\n",
    " 'snippet.channelTitle',\n",
    " 'snippet.playlistId',\n",
    " 'snippet.position',\n",
    " 'snippet.resourceId.kind',\n",
    " 'snippet.resourceId.videoId',\n",
    " 'contentDetails.videoId',\n",
    " 'status.privacyStatus',\n",
    " 'snippet.thumbnails.default.url',\n",
    " 'snippet.thumbnails.default.width',\n",
    " 'snippet.thumbnails.default.height',\n",
    " 'snippet.thumbnails.medium.url',\n",
    " 'snippet.thumbnails.medium.width',\n",
    " 'snippet.thumbnails.medium.height',\n",
    " 'snippet.thumbnails.high.url',\n",
    " 'snippet.thumbnails.high.width',\n",
    " 'snippet.thumbnails.high.height',\n",
    " 'snippet.thumbnails.standard.url',\n",
    " 'snippet.thumbnails.standard.width',\n",
    " 'snippet.thumbnails.standard.height',\n",
    " 'snippet.thumbnails.maxres.url',\n",
    " 'snippet.thumbnails.maxres.width',\n",
    " 'snippet.thumbnails.maxres.height',\n",
    " 'snippet.videoOwnerChannelTitle',\n",
    " 'snippet.videoOwnerChannelId',\n",
    " 'contentDetails.videoPublishedAt',\n",
    " 'meta.kind',\n",
    " 'meta.etag',\n",
    " 'meta.nextPageToken',\n",
    " 'meta.pageInfo.totalResults',\n",
    " 'meta.pageInfo.resultsPerPage',\n",
    " 'meta.requestNumber']\n",
    "    pd.DataFrame(columns=cols).to_csv(target, index=False)\n",
    "    return cols"
   ]
  },
  {
   "cell_type": "code",
   "execution_count": 257,
   "id": "13169b6f-d9d7-489e-a6e7-1d4ee1727407",
   "metadata": {
    "tags": []
   },
   "outputs": [],
   "source": [
    "# just need a function that see if there's a new video in the playlist that's not in the playlist.csv file\n",
    "\n",
    "# converting dictionary to df just makes querying so much nicer, as seen in request_video_id.isin(old_video_id)\n",
    "def playlist_response_to_df(playlist_dictionary):\n",
    "    '''\n",
    "    Assume that playlist_dictionary is in the form of a response from youtube.playlistItems().list() with all parts.\n",
    "    Also assume that each response has a responseNumber attached to it.\n",
    "    \n",
    "    Effectively allows structured searching rather than document search.\n",
    "    '''\n",
    "    df = pd.json_normalize(playlist_dictionary,\n",
    "                           record_path='items',\n",
    "                           meta=['kind', 'etag', 'nextPageToken', ['pageInfo', 'totalResults'], ['pageInfo', 'resultsPerPage'], 'requestNumber'],\n",
    "                           meta_prefix='meta.',\n",
    "                           errors='ignore'\n",
    "                          )\n",
    "    return df\n",
    "\n",
    "def poll_playlist():\n",
    "    '''\n",
    "    Returns whether there's at least one new video in the playlist, and the response and mask used to evaluate that.\n",
    "    \n",
    "    If all video ids are new, request again. Otherwise, just return the new ones.\n",
    "    Should work when there are no rows (besides header) in the playlist.csv.\n",
    "    TODO: figure out how to consume\n",
    "    '''\n",
    "    # we're going to be comparing video ids\n",
    "    try:\n",
    "        old_video_ids = pd.read_csv('./db/playlist.csv')['snippet.resourceId.videoId']\n",
    "    except:\n",
    "        reset_playlist_csv()\n",
    "        old_video_ids = pd.read_csv('./db/playlist.csv')['snippet.resourceId.videoId']\n",
    "    \n",
    "    youtube = api_key.get_youtube()\n",
    "    response = request_playlist(youtube)\n",
    "    requested_video_ids = playlist_response_to_df(response)['snippet.resourceId.videoId']\n",
    "    videos_polled = len(requested_video_ids)\n",
    "    print(len(videos_polled), end='\\r')\n",
    "    \n",
    "    # if all the requested ones are new, then check the next page\n",
    "    are_old = requested_video_ids.isin(old_video_ids)\n",
    "    nextPageToken = response.get('nextPageToken')\n",
    "    while (~are_old).all() and nextPageToken:\n",
    "        # make another request\n",
    "        response = request_playlist(youtube, pageToken=nextPageToken)\n",
    "        requested_video_ids = playlist_response_to_df(response)['snippet.resourceId.videoId']\n",
    "        are_old = requested_video_ids.isin(old_video_ids)\n",
    "        nextPageToken = response.get('nextPageToken')\n",
    "        videos_polled += len(requested_video_ids)\n",
    "        print(len(videos_polled), end='\\r')\n",
    "    \n",
    "    has_new_videos = ~(are_old.all()) # if all are old, then there's no new videos. \n",
    "    \n",
    "    return has_new_videos"
   ]
  },
  {
   "cell_type": "code",
   "execution_count": 213,
   "id": "467baa15-2921-4f0b-9e46-a7014b0317be",
   "metadata": {
    "tags": []
   },
   "outputs": [
    {
     "name": "stdout",
     "output_type": "stream",
     "text": [
      "50\r"
     ]
    },
    {
     "data": {
      "text/plain": [
       "False"
      ]
     },
     "execution_count": 213,
     "metadata": {},
     "output_type": "execute_result"
    }
   ],
   "source": [
    "# comment below to see polling\n",
    "# if ./db/playlist.csv is empty (except for header), should currently display around ~2100-2200 videos\n",
    "# the same number as the number of videos in the playlist\n",
    "has_new_videos = poll_playlist()\n",
    "has_new_videos"
   ]
  },
  {
   "cell_type": "markdown",
   "id": "374a1f92-1e33-4c0c-8c68-3b1f38e14e79",
   "metadata": {},
   "source": [
    "## Transformation\n",
    "\n",
    "Includes:\n",
    "- Consuming\n",
    "- Consolidating all the raw JSON files into one CSV\n",
    "- Unnesting dicts"
   ]
  },
  {
   "cell_type": "markdown",
   "id": "6d7e29dd-8be5-403a-9a97-0ed1f0206283",
   "metadata": {},
   "source": [
    "### About combining JSON files\n",
    "\n",
    "Process:\n",
    "1. JSON to DataFrame\n",
    "2. Concat (or stack) DataFrame with previous files\n",
    "3. Write DataFrame to CSV\n",
    "\n",
    "Step 0 is to initialize the csv file with, say, the first response."
   ]
  },
  {
   "cell_type": "code",
   "execution_count": 209,
   "id": "26a93cf0-34f2-4d24-a45c-504eb139e273",
   "metadata": {
    "tags": []
   },
   "outputs": [],
   "source": [
    "# helper functions for consume_raw\n",
    "import json\n",
    "\n",
    "def gather_jsons_to_df(directory='./raw'):\n",
    "    '''\n",
    "    Test below.\n",
    "    # big_df = consolidate_json()\n",
    "    # big_df.shape\n",
    "    '''\n",
    "    big_df = pd.DataFrame()\n",
    "    to_concat = [big_df]\n",
    "    \n",
    "    json_files = Path(directory).glob(\"*.json\")\n",
    "    for j in json_files:\n",
    "        df = json_to_df(j)\n",
    "        to_concat.append(df)\n",
    "        \n",
    "    big_df = pd.concat(to_concat, axis=0)    \n",
    "    return big_df\n",
    "\n",
    "def json_to_df(path):\n",
    "    '''\n",
    "    Tests below.\n",
    "    # df = json_to_df('./raw/0.json')\n",
    "    # print(df.shape)\n",
    "    # print(df['snippet.resourceId.videoId'][:2])\n",
    "    # df.head(2)\n",
    "\n",
    "    # paths = Path('./raw').glob(\"*.json\")\n",
    "    # json_to_df(list(paths)[0])\n",
    "    '''\n",
    "    with open(path, 'r') as fp:\n",
    "        response_dict = json.load(fp)\n",
    "        df = playlist_response_to_df(response_dict)\n",
    "        \n",
    "    return df"
   ]
  },
  {
   "cell_type": "code",
   "execution_count": 256,
   "id": "80b4ac50-5173-48bf-9139-913148517813",
   "metadata": {
    "tags": []
   },
   "outputs": [],
   "source": [
    "import shutil\n",
    "\n",
    "def consume_raw(directory='./raw'):\n",
    "    # update db playlist\n",
    "    # move to consumed folder\n",
    "    \n",
    "    # first gather all jsons to one df, so can perform batch comparison operations in memory\n",
    "    json_df = gather_jsons_to_df(directory)\n",
    "    try:\n",
    "        old_df = pd.read_csv(\"./db/playlist.csv\")\n",
    "    except:\n",
    "        reset_playlist_csv()\n",
    "        old_df = pd.read_csv(\"./db/playlist.csv\")\n",
    "    \n",
    "    # choice of writing to csv: read old, combine old and new, drop duplicates, overwrite\n",
    "    combined_df = pd.concat([old_df, json_df], axis=0)\n",
    "    combined_df = combined_df.drop_duplicates('id')\n",
    "    combined_df.to_csv(\"./db/playlist.csv\", index=False, header=True)\n",
    "    \n",
    "    # TODO: add time for when the object has been consumed\n",
    "    json_files = Path(directory).glob(\"*.json\")\n",
    "    for j in json_files:\n",
    "        shutil.move(j, \"./consumed\")\n",
    "    \n",
    "    return list(json_files)\n",
    "\n",
    "# would like a reset db playlist function"
   ]
  },
  {
   "cell_type": "code",
   "execution_count": 229,
   "id": "ebe535cd-1832-476c-b5bf-fedf4f95ae00",
   "metadata": {
    "tags": []
   },
   "outputs": [],
   "source": [
    "json_files = consume_raw()"
   ]
  },
  {
   "cell_type": "code",
   "execution_count": 253,
   "id": "7fdd1f35-909f-4e94-95a3-baf46ec5b49b",
   "metadata": {
    "tags": []
   },
   "outputs": [
    {
     "name": "stdout",
     "output_type": "stream",
     "text": [
      "32\r"
     ]
    },
    {
     "data": {
      "text/plain": [
       "True"
      ]
     },
     "execution_count": 253,
     "metadata": {},
     "output_type": "execute_result"
    }
   ],
   "source": [
    "poll_playlist()"
   ]
  },
  {
   "cell_type": "code",
   "execution_count": 238,
   "id": "de30dd9e-58af-461a-ab12-ef3f5c33fed2",
   "metadata": {
    "tags": []
   },
   "outputs": [
    {
     "data": {
      "text/plain": [
       "2182"
      ]
     },
     "execution_count": 238,
     "metadata": {},
     "output_type": "execute_result"
    }
   ],
   "source": [
    "len(playlist_df['id'])"
   ]
  },
  {
   "cell_type": "code",
   "execution_count": 236,
   "id": "e9e65faa-c995-4b2f-bc74-f15fd4e37c81",
   "metadata": {
    "tags": []
   },
   "outputs": [
    {
     "data": {
      "text/plain": [
       "2182"
      ]
     },
     "execution_count": 236,
     "metadata": {},
     "output_type": "execute_result"
    }
   ],
   "source": [
    "len(playlist_df['id'].unique())"
   ]
  },
  {
   "cell_type": "code",
   "execution_count": 231,
   "id": "acf4ab2f-2b25-4d81-8d20-f28a075ac3c5",
   "metadata": {
    "collapsed": true,
    "jupyter": {
     "outputs_hidden": true
    },
    "tags": []
   },
   "outputs": [
    {
     "data": {
      "text/plain": [
       "meta.requestNumber\n",
       "1     50\n",
       "2     50\n",
       "3     50\n",
       "4     50\n",
       "5     50\n",
       "6     50\n",
       "7     50\n",
       "8     50\n",
       "9     50\n",
       "10    50\n",
       "11    50\n",
       "12    50\n",
       "13    50\n",
       "14    50\n",
       "15    50\n",
       "16    50\n",
       "17    50\n",
       "18    50\n",
       "19    50\n",
       "20    50\n",
       "21    50\n",
       "22    50\n",
       "23    50\n",
       "24    50\n",
       "25    50\n",
       "26    50\n",
       "27    50\n",
       "28    50\n",
       "29    50\n",
       "30    50\n",
       "31    50\n",
       "32    50\n",
       "33    50\n",
       "34    50\n",
       "35    50\n",
       "36    50\n",
       "37    50\n",
       "38    50\n",
       "39    50\n",
       "40    50\n",
       "41    50\n",
       "42    50\n",
       "43    32\n",
       "44    50\n",
       "Name: kind, dtype: int64"
      ]
     },
     "execution_count": 231,
     "metadata": {},
     "output_type": "execute_result"
    }
   ],
   "source": [
    "playlist_df = pd.read_csv(\"./db/playlist.csv\")\n",
    "playlist_df.groupby('meta.requestNumber').count().iloc[:, 0]"
   ]
  },
  {
   "cell_type": "code",
   "execution_count": 17,
   "id": "6da506cb-9dc9-4b1e-91ef-2383f9335b5f",
   "metadata": {
    "tags": []
   },
   "outputs": [],
   "source": [
    "# TODO:\n",
    "# - function for inting playlist\n",
    "# - add time of consuming\n",
    "# - \n",
    "\n",
    "# write the first one in so headers are in place\n",
    "# df = convert_json_to_df(test_json)\n",
    "# df.to_csv(\"./db/playlist.csv\", index=False)\n",
    "# TODO:\n",
    "# function for clearing rows, except headers"
   ]
  },
  {
   "cell_type": "markdown",
   "id": "656a9297-dd57-47bf-9a24-d4c55d4dc395",
   "metadata": {
    "jp-MarkdownHeadingCollapsed": true,
    "tags": []
   },
   "source": [
    "#### Tests"
   ]
  },
  {
   "cell_type": "markdown",
   "id": "2fd722a9-457f-47d8-b5cf-9028c58e9e87",
   "metadata": {
    "tags": []
   },
   "source": [
    "##### Test:\n",
    "- for new column values, only allowed to append them to the first row of the csv file\n",
    "- algorithm for finding which header to append and putting them in the back"
   ]
  },
  {
   "cell_type": "code",
   "execution_count": 125,
   "id": "a51e0399-8184-4a18-aeee-9b1add691e5e",
   "metadata": {
    "tags": []
   },
   "outputs": [
    {
     "data": {
      "text/html": [
       "<div>\n",
       "<style scoped>\n",
       "    .dataframe tbody tr th:only-of-type {\n",
       "        vertical-align: middle;\n",
       "    }\n",
       "\n",
       "    .dataframe tbody tr th {\n",
       "        vertical-align: top;\n",
       "    }\n",
       "\n",
       "    .dataframe thead th {\n",
       "        text-align: right;\n",
       "    }\n",
       "</style>\n",
       "<table border=\"1\" class=\"dataframe\">\n",
       "  <thead>\n",
       "    <tr style=\"text-align: right;\">\n",
       "      <th></th>\n",
       "      <th>animal</th>\n",
       "      <th>name</th>\n",
       "    </tr>\n",
       "  </thead>\n",
       "  <tbody>\n",
       "    <tr>\n",
       "      <th>0</th>\n",
       "      <td>cow</td>\n",
       "      <td>moomoo</td>\n",
       "    </tr>\n",
       "    <tr>\n",
       "      <th>1</th>\n",
       "      <td>parrot</td>\n",
       "      <td>polly</td>\n",
       "    </tr>\n",
       "  </tbody>\n",
       "</table>\n",
       "</div>"
      ],
      "text/plain": [
       "   animal    name\n",
       "0     cow  moomoo\n",
       "1  parrot   polly"
      ]
     },
     "execution_count": 125,
     "metadata": {},
     "output_type": "execute_result"
    }
   ],
   "source": [
    "df1 = pd.DataFrame({\n",
    "    \"animal\": [\"cow\", \"parrot\"],\n",
    "    \"name\": [\"moomoo\", \"polly\"]\n",
    "})\n",
    "df1.to_csv(\"test.csv\", index=False)\n",
    "df1"
   ]
  },
  {
   "cell_type": "code",
   "execution_count": 126,
   "id": "833cad84-0138-4559-84bd-30706803ea3a",
   "metadata": {
    "tags": []
   },
   "outputs": [
    {
     "data": {
      "text/html": [
       "<div>\n",
       "<style scoped>\n",
       "    .dataframe tbody tr th:only-of-type {\n",
       "        vertical-align: middle;\n",
       "    }\n",
       "\n",
       "    .dataframe tbody tr th {\n",
       "        vertical-align: top;\n",
       "    }\n",
       "\n",
       "    .dataframe thead th {\n",
       "        text-align: right;\n",
       "    }\n",
       "</style>\n",
       "<table border=\"1\" class=\"dataframe\">\n",
       "  <thead>\n",
       "    <tr style=\"text-align: right;\">\n",
       "      <th></th>\n",
       "      <th>animal</th>\n",
       "      <th>name</th>\n",
       "      <th>legs</th>\n",
       "    </tr>\n",
       "  </thead>\n",
       "  <tbody>\n",
       "    <tr>\n",
       "      <th>0</th>\n",
       "      <td>scorpion</td>\n",
       "      <td>gliscor</td>\n",
       "      <td>6</td>\n",
       "    </tr>\n",
       "  </tbody>\n",
       "</table>\n",
       "</div>"
      ],
      "text/plain": [
       "     animal     name  legs\n",
       "0  scorpion  gliscor     6"
      ]
     },
     "execution_count": 126,
     "metadata": {},
     "output_type": "execute_result"
    }
   ],
   "source": [
    "df2 = pd.DataFrame({\n",
    "    \"animal\": [\"scorpion\"],\n",
    "    \"name\": [\"gliscor\"],\n",
    "    \"legs\": [6]\n",
    "})\n",
    "df2"
   ]
  },
  {
   "cell_type": "code",
   "execution_count": 139,
   "id": "230ce77f-7239-49bf-864f-a0c7e952c5fb",
   "metadata": {
    "tags": []
   },
   "outputs": [
    {
     "data": {
      "text/html": [
       "<div>\n",
       "<style scoped>\n",
       "    .dataframe tbody tr th:only-of-type {\n",
       "        vertical-align: middle;\n",
       "    }\n",
       "\n",
       "    .dataframe tbody tr th {\n",
       "        vertical-align: top;\n",
       "    }\n",
       "\n",
       "    .dataframe thead th {\n",
       "        text-align: right;\n",
       "    }\n",
       "</style>\n",
       "<table border=\"1\" class=\"dataframe\">\n",
       "  <thead>\n",
       "    <tr style=\"text-align: right;\">\n",
       "      <th></th>\n",
       "      <th>animal</th>\n",
       "      <th>name</th>\n",
       "    </tr>\n",
       "  </thead>\n",
       "  <tbody>\n",
       "  </tbody>\n",
       "</table>\n",
       "</div>"
      ],
      "text/plain": [
       "Empty DataFrame\n",
       "Columns: [animal, name]\n",
       "Index: []"
      ]
     },
     "execution_count": 139,
     "metadata": {},
     "output_type": "execute_result"
    }
   ],
   "source": [
    "read_df = pd.read_csv(\"test.csv\")\n",
    "read_df.head(0)"
   ]
  },
  {
   "cell_type": "code",
   "execution_count": 138,
   "id": "727e3c51-a894-4265-a302-25bff4923d83",
   "metadata": {
    "tags": []
   },
   "outputs": [
    {
     "data": {
      "text/plain": [
       "2    legs\n",
       "dtype: object"
      ]
     },
     "execution_count": 138,
     "metadata": {},
     "output_type": "execute_result"
    }
   ],
   "source": [
    "old_columns = pd.Series(read_df.columns)\n",
    "new_columns = pd.Series(df2.columns)\n",
    "cols_to_append_mask = ~(new_columns.isin(old_columns)) # append the columns that don't appear in the previous df\n",
    "cols_to_append = new_columns[cols_to_append_mask]\n",
    "cols_to_append"
   ]
  },
  {
   "cell_type": "code",
   "execution_count": 144,
   "id": "ce82b18a-3443-41e2-9eee-026af16a56f4",
   "metadata": {
    "tags": []
   },
   "outputs": [],
   "source": [
    "# then need to write to the first row of the csv file\n",
    "import csv\n",
    "\n",
    "with open('test.csv', newline='') as fp:\n",
    "    r = csv.reader(fp)\n",
    "    row0 = next(r)\n",
    "    "
   ]
  },
  {
   "cell_type": "code",
   "execution_count": 159,
   "id": "bd647724-c62a-4234-9ebb-96bacc57ac08",
   "metadata": {
    "tags": []
   },
   "outputs": [],
   "source": [
    "row0.append('llama')\n",
    "\n",
    "# parse if snippet.resourceId.videoId are new\n",
    "#     videoId_key = 'snippet.resourceId.videoId'\n",
    "    \n",
    "#     received_video_ids = big_df[videoId_key]\n",
    "#     old_video_ids = old_df[videoId_key]\n",
    "#     mask = ~(received_video_ids.isin(old_video_ids))\n",
    "    \n",
    "    # another idea is just dropping duplicates, rather than avoiding them\n",
    "    # for now, concat playlist.csv \n",
    "    # to_concat = big_df[mask]\n",
    "    \n",
    "    # read each file, convert to df, parse if it's actually new, write to csv"
   ]
  },
  {
   "cell_type": "markdown",
   "id": "e147f9ab-0e5c-41b4-84c4-b7ad44e4be56",
   "metadata": {},
   "source": [
    "Works, but just going to read the csv in with pandas, modify it, and finally copy to csv."
   ]
  },
  {
   "cell_type": "markdown",
   "id": "a43eb2f1-7189-4b26-8bdb-2a91f1675214",
   "metadata": {
    "jp-MarkdownHeadingCollapsed": true,
    "tags": []
   },
   "source": [
    "##### Test:\n",
    "- using the `columns` keyword argument in `to_csv` so that can add new columns while keeping old ones"
   ]
  },
  {
   "cell_type": "code",
   "execution_count": 120,
   "id": "603ea57d-a5d2-4eff-8744-5ad16ee833b0",
   "metadata": {
    "tags": []
   },
   "outputs": [
    {
     "data": {
      "text/html": [
       "<div>\n",
       "<style scoped>\n",
       "    .dataframe tbody tr th:only-of-type {\n",
       "        vertical-align: middle;\n",
       "    }\n",
       "\n",
       "    .dataframe tbody tr th {\n",
       "        vertical-align: top;\n",
       "    }\n",
       "\n",
       "    .dataframe thead th {\n",
       "        text-align: right;\n",
       "    }\n",
       "</style>\n",
       "<table border=\"1\" class=\"dataframe\">\n",
       "  <thead>\n",
       "    <tr style=\"text-align: right;\">\n",
       "      <th></th>\n",
       "      <th>animal</th>\n",
       "      <th>name</th>\n",
       "    </tr>\n",
       "  </thead>\n",
       "  <tbody>\n",
       "    <tr>\n",
       "      <th>0</th>\n",
       "      <td>cow</td>\n",
       "      <td>moomoo</td>\n",
       "    </tr>\n",
       "    <tr>\n",
       "      <th>1</th>\n",
       "      <td>parrot</td>\n",
       "      <td>polly</td>\n",
       "    </tr>\n",
       "  </tbody>\n",
       "</table>\n",
       "</div>"
      ],
      "text/plain": [
       "   animal    name\n",
       "0     cow  moomoo\n",
       "1  parrot   polly"
      ]
     },
     "execution_count": 120,
     "metadata": {},
     "output_type": "execute_result"
    }
   ],
   "source": [
    "df1 = pd.DataFrame({\n",
    "    \"animal\": [\"cow\", \"parrot\"],\n",
    "    \"name\": [\"moomoo\", \"polly\"]\n",
    "})\n",
    "df1.to_csv(\"test.csv\", index=False)\n",
    "df1"
   ]
  },
  {
   "cell_type": "code",
   "execution_count": 121,
   "id": "546ccf61-48d5-4155-a9f9-a1b241fa070d",
   "metadata": {
    "tags": []
   },
   "outputs": [
    {
     "data": {
      "text/html": [
       "<div>\n",
       "<style scoped>\n",
       "    .dataframe tbody tr th:only-of-type {\n",
       "        vertical-align: middle;\n",
       "    }\n",
       "\n",
       "    .dataframe tbody tr th {\n",
       "        vertical-align: top;\n",
       "    }\n",
       "\n",
       "    .dataframe thead th {\n",
       "        text-align: right;\n",
       "    }\n",
       "</style>\n",
       "<table border=\"1\" class=\"dataframe\">\n",
       "  <thead>\n",
       "    <tr style=\"text-align: right;\">\n",
       "      <th></th>\n",
       "      <th>animal</th>\n",
       "      <th>name</th>\n",
       "      <th>legs</th>\n",
       "    </tr>\n",
       "  </thead>\n",
       "  <tbody>\n",
       "    <tr>\n",
       "      <th>0</th>\n",
       "      <td>scorpion</td>\n",
       "      <td>gliscor</td>\n",
       "      <td>6</td>\n",
       "    </tr>\n",
       "  </tbody>\n",
       "</table>\n",
       "</div>"
      ],
      "text/plain": [
       "     animal     name  legs\n",
       "0  scorpion  gliscor     6"
      ]
     },
     "execution_count": 121,
     "metadata": {},
     "output_type": "execute_result"
    }
   ],
   "source": [
    "df2 = pd.DataFrame({\n",
    "    \"animal\": [\"scorpion\"],\n",
    "    \"name\": [\"gliscor\"],\n",
    "    \"legs\": [6]\n",
    "})\n",
    "df2"
   ]
  },
  {
   "cell_type": "code",
   "execution_count": 122,
   "id": "fb21c98e-a7e3-410e-9c7b-d7029f6d72db",
   "metadata": {
    "tags": []
   },
   "outputs": [
    {
     "data": {
      "text/html": [
       "<div>\n",
       "<style scoped>\n",
       "    .dataframe tbody tr th:only-of-type {\n",
       "        vertical-align: middle;\n",
       "    }\n",
       "\n",
       "    .dataframe tbody tr th {\n",
       "        vertical-align: top;\n",
       "    }\n",
       "\n",
       "    .dataframe thead th {\n",
       "        text-align: right;\n",
       "    }\n",
       "</style>\n",
       "<table border=\"1\" class=\"dataframe\">\n",
       "  <thead>\n",
       "    <tr style=\"text-align: right;\">\n",
       "      <th></th>\n",
       "      <th>animal</th>\n",
       "      <th>name</th>\n",
       "    </tr>\n",
       "  </thead>\n",
       "  <tbody>\n",
       "  </tbody>\n",
       "</table>\n",
       "</div>"
      ],
      "text/plain": [
       "Empty DataFrame\n",
       "Columns: [animal, name]\n",
       "Index: []"
      ]
     },
     "execution_count": 122,
     "metadata": {},
     "output_type": "execute_result"
    }
   ],
   "source": [
    "read_df = pd.read_csv(\"test.csv\")\n",
    "read_df.head(0)"
   ]
  },
  {
   "cell_type": "code",
   "execution_count": 123,
   "id": "7cf299f2-10a8-46a2-b8e9-3f63649a00e1",
   "metadata": {
    "tags": []
   },
   "outputs": [
    {
     "name": "stdout",
     "output_type": "stream",
     "text": [
      "['animal', 'name', 'legs']\n"
     ]
    },
    {
     "data": {
      "text/html": [
       "<div>\n",
       "<style scoped>\n",
       "    .dataframe tbody tr th:only-of-type {\n",
       "        vertical-align: middle;\n",
       "    }\n",
       "\n",
       "    .dataframe tbody tr th {\n",
       "        vertical-align: top;\n",
       "    }\n",
       "\n",
       "    .dataframe thead th {\n",
       "        text-align: right;\n",
       "    }\n",
       "</style>\n",
       "<table border=\"1\" class=\"dataframe\">\n",
       "  <thead>\n",
       "    <tr style=\"text-align: right;\">\n",
       "      <th></th>\n",
       "      <th>animal</th>\n",
       "      <th>name</th>\n",
       "      <th>legs</th>\n",
       "    </tr>\n",
       "  </thead>\n",
       "  <tbody>\n",
       "  </tbody>\n",
       "</table>\n",
       "</div>"
      ],
      "text/plain": [
       "Empty DataFrame\n",
       "Columns: [animal, name, legs]\n",
       "Index: []"
      ]
     },
     "execution_count": 123,
     "metadata": {},
     "output_type": "execute_result"
    }
   ],
   "source": [
    "# really just need a way to get the right column order and call columns=...\n",
    "\n",
    "# first approach\n",
    "# just concat an empty df that has the old columns with the new df\n",
    "to_concat = [\n",
    "    read_df.head(0),\n",
    "    df2.head(0)\n",
    "]\n",
    "cat_df = pd.concat(to_concat)\n",
    "print(list(cat_df.columns))\n",
    "cat_df"
   ]
  },
  {
   "cell_type": "code",
   "execution_count": 119,
   "id": "c564de6d-15e6-4cee-8843-7699ca717d70",
   "metadata": {
    "tags": []
   },
   "outputs": [],
   "source": [
    "# df1.to_csv('test.csv', mode='a', header=False, index=False, columns=list(cat_df.columns))"
   ]
  },
  {
   "cell_type": "code",
   "execution_count": 124,
   "id": "dc3556b9-34ae-4708-8ef0-78373b74598f",
   "metadata": {
    "tags": []
   },
   "outputs": [],
   "source": [
    "# see if appending to csv with the concatenated df will add the new columns\n",
    "df2.to_csv('test.csv', columns=list(cat_df.columns), mode='a', header=False, index=False)"
   ]
  },
  {
   "cell_type": "markdown",
   "id": "494d32f5-047d-4f8e-bfe6-e84c492ff4f4",
   "metadata": {},
   "source": [
    "Does not work. Still squeezes the extra value into the last column."
   ]
  },
  {
   "cell_type": "markdown",
   "id": "467c9fe0-1206-40cb-81d1-b88ab28fa36c",
   "metadata": {
    "jp-MarkdownHeadingCollapsed": true,
    "tags": []
   },
   "source": [
    "##### Test:\n",
    "- CSV file has 2 headers\n",
    "- Append to that CSV a dataframe with 3 headers\n",
    "\n",
    "Does the CSV \"properly\" update?"
   ]
  },
  {
   "cell_type": "code",
   "execution_count": 88,
   "id": "70ecb338-ae65-48df-ac55-824bc3db685f",
   "metadata": {
    "tags": []
   },
   "outputs": [
    {
     "data": {
      "text/html": [
       "<div>\n",
       "<style scoped>\n",
       "    .dataframe tbody tr th:only-of-type {\n",
       "        vertical-align: middle;\n",
       "    }\n",
       "\n",
       "    .dataframe tbody tr th {\n",
       "        vertical-align: top;\n",
       "    }\n",
       "\n",
       "    .dataframe thead th {\n",
       "        text-align: right;\n",
       "    }\n",
       "</style>\n",
       "<table border=\"1\" class=\"dataframe\">\n",
       "  <thead>\n",
       "    <tr style=\"text-align: right;\">\n",
       "      <th></th>\n",
       "      <th>animal</th>\n",
       "      <th>name</th>\n",
       "    </tr>\n",
       "  </thead>\n",
       "  <tbody>\n",
       "    <tr>\n",
       "      <th>0</th>\n",
       "      <td>cow</td>\n",
       "      <td>moomoo</td>\n",
       "    </tr>\n",
       "    <tr>\n",
       "      <th>1</th>\n",
       "      <td>parrot</td>\n",
       "      <td>polly</td>\n",
       "    </tr>\n",
       "  </tbody>\n",
       "</table>\n",
       "</div>"
      ],
      "text/plain": [
       "   animal    name\n",
       "0     cow  moomoo\n",
       "1  parrot   polly"
      ]
     },
     "execution_count": 88,
     "metadata": {},
     "output_type": "execute_result"
    }
   ],
   "source": [
    "df1 = pd.DataFrame({\n",
    "    \"animal\": [\"cow\", \"parrot\"],\n",
    "    \"name\": [\"moomoo\", \"polly\"]\n",
    "})\n",
    "df1.to_csv(\"test.csv\", index=False)\n",
    "df1"
   ]
  },
  {
   "cell_type": "code",
   "execution_count": 89,
   "id": "697d0779-4958-487f-ac71-ccef015d5f56",
   "metadata": {
    "tags": []
   },
   "outputs": [
    {
     "data": {
      "text/html": [
       "<div>\n",
       "<style scoped>\n",
       "    .dataframe tbody tr th:only-of-type {\n",
       "        vertical-align: middle;\n",
       "    }\n",
       "\n",
       "    .dataframe tbody tr th {\n",
       "        vertical-align: top;\n",
       "    }\n",
       "\n",
       "    .dataframe thead th {\n",
       "        text-align: right;\n",
       "    }\n",
       "</style>\n",
       "<table border=\"1\" class=\"dataframe\">\n",
       "  <thead>\n",
       "    <tr style=\"text-align: right;\">\n",
       "      <th></th>\n",
       "      <th>animal</th>\n",
       "      <th>name</th>\n",
       "      <th>legs</th>\n",
       "    </tr>\n",
       "  </thead>\n",
       "  <tbody>\n",
       "    <tr>\n",
       "      <th>0</th>\n",
       "      <td>scorpion</td>\n",
       "      <td>gliscor</td>\n",
       "      <td>8</td>\n",
       "    </tr>\n",
       "  </tbody>\n",
       "</table>\n",
       "</div>"
      ],
      "text/plain": [
       "     animal     name  legs\n",
       "0  scorpion  gliscor     8"
      ]
     },
     "execution_count": 89,
     "metadata": {},
     "output_type": "execute_result"
    }
   ],
   "source": [
    "df2 = pd.DataFrame({\n",
    "    \"animal\": [\"scorpion\"],\n",
    "    \"name\": [\"gliscor\"],\n",
    "    \"legs\": [8]\n",
    "})\n",
    "df2"
   ]
  },
  {
   "cell_type": "code",
   "execution_count": 90,
   "id": "16bbc2f4-d6f9-4684-bdd7-2abc06ca7a49",
   "metadata": {
    "tags": []
   },
   "outputs": [],
   "source": [
    "df2.to_csv(\"test.csv\", mode=\"a\", index=False, header=True) # maybe it's the header argument?"
   ]
  },
  {
   "cell_type": "markdown",
   "id": "c230e438-6e66-497c-ad6b-ce2533d1bd23",
   "metadata": {},
   "source": [
    "Doesn't seem like there's a way to directly add a column to a CSV file. You would have to read the CSV file as a data frame, concatenate it with the new one, then write to CSV (not append). Surprised that a method does not exist to do that efficiently.\n",
    "\n",
    "For now, if there's a new column, go in write mode. Otherwise, append.headers"
   ]
  },
  {
   "cell_type": "markdown",
   "id": "f7974e9c-033d-4063-9ac3-a2b7858b62af",
   "metadata": {
    "jp-MarkdownHeadingCollapsed": true,
    "tags": []
   },
   "source": [
    "##### Test: Read CSV with less headers/columns than in-memory data frames"
   ]
  },
  {
   "cell_type": "code",
   "execution_count": 31,
   "id": "ea4af669-22a3-4612-b2b5-5884e8409e3f",
   "metadata": {
    "tags": []
   },
   "outputs": [
    {
     "data": {
      "text/html": [
       "<div>\n",
       "<style scoped>\n",
       "    .dataframe tbody tr th:only-of-type {\n",
       "        vertical-align: middle;\n",
       "    }\n",
       "\n",
       "    .dataframe tbody tr th {\n",
       "        vertical-align: top;\n",
       "    }\n",
       "\n",
       "    .dataframe thead th {\n",
       "        text-align: right;\n",
       "    }\n",
       "</style>\n",
       "<table border=\"1\" class=\"dataframe\">\n",
       "  <thead>\n",
       "    <tr style=\"text-align: right;\">\n",
       "      <th></th>\n",
       "      <th>animal</th>\n",
       "      <th>name</th>\n",
       "    </tr>\n",
       "  </thead>\n",
       "  <tbody>\n",
       "    <tr>\n",
       "      <th>0</th>\n",
       "      <td>cow</td>\n",
       "      <td>moo</td>\n",
       "    </tr>\n",
       "    <tr>\n",
       "      <th>1</th>\n",
       "      <td>parrot</td>\n",
       "      <td>polly</td>\n",
       "    </tr>\n",
       "  </tbody>\n",
       "</table>\n",
       "</div>"
      ],
      "text/plain": [
       "   animal    name\n",
       "0     cow     moo\n",
       "1  parrot   polly"
      ]
     },
     "execution_count": 31,
     "metadata": {},
     "output_type": "execute_result"
    }
   ],
   "source": [
    "df1 = pd.read_csv(\"test.csv\")\n",
    "df1"
   ]
  },
  {
   "cell_type": "code",
   "execution_count": 32,
   "id": "e6121996-bde7-461c-b793-ddfdf6633c5a",
   "metadata": {
    "tags": []
   },
   "outputs": [
    {
     "data": {
      "text/html": [
       "<div>\n",
       "<style scoped>\n",
       "    .dataframe tbody tr th:only-of-type {\n",
       "        vertical-align: middle;\n",
       "    }\n",
       "\n",
       "    .dataframe tbody tr th {\n",
       "        vertical-align: top;\n",
       "    }\n",
       "\n",
       "    .dataframe thead th {\n",
       "        text-align: right;\n",
       "    }\n",
       "</style>\n",
       "<table border=\"1\" class=\"dataframe\">\n",
       "  <thead>\n",
       "    <tr style=\"text-align: right;\">\n",
       "      <th></th>\n",
       "      <th>animal</th>\n",
       "      <th>name</th>\n",
       "      <th>legs</th>\n",
       "    </tr>\n",
       "  </thead>\n",
       "  <tbody>\n",
       "    <tr>\n",
       "      <th>0</th>\n",
       "      <td>cow</td>\n",
       "      <td>moo</td>\n",
       "      <td>4</td>\n",
       "    </tr>\n",
       "    <tr>\n",
       "      <th>1</th>\n",
       "      <td>parrot</td>\n",
       "      <td>polly</td>\n",
       "      <td>2</td>\n",
       "    </tr>\n",
       "  </tbody>\n",
       "</table>\n",
       "</div>"
      ],
      "text/plain": [
       "   animal    name  legs\n",
       "0     cow     moo     4\n",
       "1  parrot   polly     2"
      ]
     },
     "execution_count": 32,
     "metadata": {},
     "output_type": "execute_result"
    }
   ],
   "source": [
    "df2 = df1.copy()\n",
    "df2['legs'] = [4, 2]\n",
    "df2"
   ]
  },
  {
   "cell_type": "code",
   "execution_count": 35,
   "id": "4ce1357a-a4f9-411c-9ac1-def082de02a2",
   "metadata": {
    "tags": []
   },
   "outputs": [
    {
     "data": {
      "text/html": [
       "<div>\n",
       "<style scoped>\n",
       "    .dataframe tbody tr th:only-of-type {\n",
       "        vertical-align: middle;\n",
       "    }\n",
       "\n",
       "    .dataframe tbody tr th {\n",
       "        vertical-align: top;\n",
       "    }\n",
       "\n",
       "    .dataframe thead th {\n",
       "        text-align: right;\n",
       "    }\n",
       "</style>\n",
       "<table border=\"1\" class=\"dataframe\">\n",
       "  <thead>\n",
       "    <tr style=\"text-align: right;\">\n",
       "      <th></th>\n",
       "      <th>animal</th>\n",
       "      <th>name</th>\n",
       "      <th>legs</th>\n",
       "    </tr>\n",
       "  </thead>\n",
       "  <tbody>\n",
       "    <tr>\n",
       "      <th>0</th>\n",
       "      <td>cow</td>\n",
       "      <td>moo</td>\n",
       "      <td>NaN</td>\n",
       "    </tr>\n",
       "    <tr>\n",
       "      <th>1</th>\n",
       "      <td>parrot</td>\n",
       "      <td>polly</td>\n",
       "      <td>NaN</td>\n",
       "    </tr>\n",
       "    <tr>\n",
       "      <th>2</th>\n",
       "      <td>cow</td>\n",
       "      <td>moo</td>\n",
       "      <td>4.0</td>\n",
       "    </tr>\n",
       "    <tr>\n",
       "      <th>3</th>\n",
       "      <td>parrot</td>\n",
       "      <td>polly</td>\n",
       "      <td>2.0</td>\n",
       "    </tr>\n",
       "  </tbody>\n",
       "</table>\n",
       "</div>"
      ],
      "text/plain": [
       "   animal    name  legs\n",
       "0     cow     moo   NaN\n",
       "1  parrot   polly   NaN\n",
       "2     cow     moo   4.0\n",
       "3  parrot   polly   2.0"
      ]
     },
     "execution_count": 35,
     "metadata": {},
     "output_type": "execute_result"
    }
   ],
   "source": [
    "df3 = pd.concat([df1, df2], ignore_index=True)\n",
    "df3"
   ]
  },
  {
   "cell_type": "code",
   "execution_count": 36,
   "id": "8b44d7c1-cc3e-4a27-be03-c063cc261fe3",
   "metadata": {
    "tags": []
   },
   "outputs": [],
   "source": [
    "df3.to_csv(\"test.csv\", index=False)"
   ]
  },
  {
   "cell_type": "code",
   "execution_count": 37,
   "id": "fa7d2b57-5e70-48a2-9ead-b52d2284d0b2",
   "metadata": {
    "tags": []
   },
   "outputs": [
    {
     "data": {
      "text/html": [
       "<div>\n",
       "<style scoped>\n",
       "    .dataframe tbody tr th:only-of-type {\n",
       "        vertical-align: middle;\n",
       "    }\n",
       "\n",
       "    .dataframe tbody tr th {\n",
       "        vertical-align: top;\n",
       "    }\n",
       "\n",
       "    .dataframe thead th {\n",
       "        text-align: right;\n",
       "    }\n",
       "</style>\n",
       "<table border=\"1\" class=\"dataframe\">\n",
       "  <thead>\n",
       "    <tr style=\"text-align: right;\">\n",
       "      <th></th>\n",
       "      <th>animal</th>\n",
       "      <th>name</th>\n",
       "      <th>legs</th>\n",
       "    </tr>\n",
       "  </thead>\n",
       "  <tbody>\n",
       "    <tr>\n",
       "      <th>0</th>\n",
       "      <td>cow</td>\n",
       "      <td>moo</td>\n",
       "      <td>NaN</td>\n",
       "    </tr>\n",
       "    <tr>\n",
       "      <th>1</th>\n",
       "      <td>parrot</td>\n",
       "      <td>polly</td>\n",
       "      <td>NaN</td>\n",
       "    </tr>\n",
       "    <tr>\n",
       "      <th>2</th>\n",
       "      <td>cow</td>\n",
       "      <td>moo</td>\n",
       "      <td>4.0</td>\n",
       "    </tr>\n",
       "    <tr>\n",
       "      <th>3</th>\n",
       "      <td>parrot</td>\n",
       "      <td>polly</td>\n",
       "      <td>2.0</td>\n",
       "    </tr>\n",
       "  </tbody>\n",
       "</table>\n",
       "</div>"
      ],
      "text/plain": [
       "   animal    name  legs\n",
       "0     cow     moo   NaN\n",
       "1  parrot   polly   NaN\n",
       "2     cow     moo   4.0\n",
       "3  parrot   polly   2.0"
      ]
     },
     "execution_count": 37,
     "metadata": {},
     "output_type": "execute_result"
    }
   ],
   "source": [
    "df4 = pd.read_csv(\"test.csv\")\n",
    "df4"
   ]
  }
 ],
 "metadata": {
  "kernelspec": {
   "display_name": "Python 3 (ipykernel)",
   "language": "python",
   "name": "python3"
  },
  "language_info": {
   "codemirror_mode": {
    "name": "ipython",
    "version": 3
   },
   "file_extension": ".py",
   "mimetype": "text/x-python",
   "name": "python",
   "nbconvert_exporter": "python",
   "pygments_lexer": "ipython3",
   "version": "3.11.5"
  }
 },
 "nbformat": 4,
 "nbformat_minor": 5
}
