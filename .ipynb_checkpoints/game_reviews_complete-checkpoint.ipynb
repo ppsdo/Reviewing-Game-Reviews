{
 "cells": [
  {
   "cell_type": "markdown",
   "id": "36c60033-6f58-4d43-87e9-dd51a984f213",
   "metadata": {},
   "source": [
    "# Reviewing IGN's Game Reviews\n",
    "\n",
    "Do reviews in which a higher a score was given tend to have a more positive sentiment?\n",
    "\n",
    "Approach: for each videogame review from IGN on YouTube, compare the score given at the end with various metrics of sentiment such as the comment section and likes-to-dislikes ratio.\n",
    "\n",
    "Generally, there are 3 problems that must be solved:\n",
    "1. Getting the data.\n",
    "2. Cleaning the data.\n",
    "3. Performing the analysis"
   ]
  },
  {
   "cell_type": "markdown",
   "id": "8063b103-362d-47f9-9fd3-0ea196d80a16",
   "metadata": {},
   "source": [
    "## Part 1: Getting the data\n",
    "\n",
    "This includes using the YouTube API to access each video and the associated data from their \"Game Reviews\" playlist."
   ]
  },
  {
   "cell_type": "code",
   "execution_count": null,
   "id": "e752dbae-f2d6-4bea-9b99-a9679eef9e11",
   "metadata": {},
   "outputs": [],
   "source": []
  }
 ],
 "metadata": {
  "kernelspec": {
   "display_name": "Python 3 (ipykernel)",
   "language": "python",
   "name": "python3"
  },
  "language_info": {
   "codemirror_mode": {
    "name": "ipython",
    "version": 3
   },
   "file_extension": ".py",
   "mimetype": "text/x-python",
   "name": "python",
   "nbconvert_exporter": "python",
   "pygments_lexer": "ipython3",
   "version": "3.12.0"
  }
 },
 "nbformat": 4,
 "nbformat_minor": 5
}
