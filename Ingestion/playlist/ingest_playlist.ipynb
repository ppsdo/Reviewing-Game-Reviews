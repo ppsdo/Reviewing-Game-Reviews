{
 "cells": [
  {
   "cell_type": "markdown",
   "id": "73f6a860-c1e8-4637-a8cd-0545b1ad69c0",
   "metadata": {},
   "source": [
    "# Setting up Google Account for YouTube API\n",
    "\n",
    "Google offers an API for YouTube as part of its Google Cloud Platform (GCP). Just like for many other API, you will need an API key. If you're familiar with other cloud platforms such as AWS, then the following process will feel familiar.\n",
    "\n",
    "Set up a free trial GCP account. Go to your Google console and search for YouTube Data API (v3) (as of 2023). Enable the API.\n",
    "\n",
    "There should be a place where you can create credentials. From that point on, create an API key, copy it, and place it in a text file. Make sure not to publicly show it. Other programmers can copy it and pretend they're you making API calls, pushing you over the quota.\n"
   ]
  },
  {
   "cell_type": "markdown",
   "id": "b40f64f0-629c-4a65-a186-84071aa2b1ee",
   "metadata": {},
   "source": [
    "# Ingesting YouTube Data for IGN Game Reviews Playlist\n",
    "\n",
    "As of 2023, IGN maintains a playlist comprising videos of mostly game reviews; some videos are discussions rather than the typical review. So we first need to get the playlist. See the following for more information on how to use YouTube's API to get the playlist programatically: https://developers.google.com/youtube/v3/docs/playlistItems/list\n",
    "\n",
    "You'll see sample code that will include `os` and `googleapiclient.flow`. In particular, `flow` will require client secrets to perform actions on your account's behalf -- for security reasons. However, since we are only interested \"scraping\" public information, we will only need an API key. See this post for more information: https://github.com/googleapis/google-api-python-client/blob/main/docs/api-keys.md\n",
    "\n",
    "On top of requesting data from YouTube API, we would also like to log our calls and other helpful information. Consequently, we are going to break down fetching into 2 tasks:\n",
    "1. Sending requests to YouTube API\n",
    "2. Logging API calls\n",
    "\n",
    "If you ever get confused about what an object like `request = youtube.<>` is doing, search up documentation for its `type`.\n",
    "\n",
    "Logging error codes:\n",
    "- -100 levels: client sided error\n",
    "    - 0: undefined\n",
    "    - 1: bad request\n",
    "- -200 levels: server sided error\n",
    "    - 0: undefined\n",
    "    \n",
    "    \n",
    "    "
   ]
  },
  {
   "cell_type": "markdown",
   "id": "39b033af-a067-48d6-9d1d-e42a893096bf",
   "metadata": {},
   "source": [
    "## Sending Requests to YouTube API\n",
    "\n",
    "Firstly, let's create a few functions to help us get a list of playlist items. More specifically, we'll be primarily using `get_youtube` and `request_playlist_videos`:\n",
    "- `get_youtube` creates a YouTube build from which to send requests\n",
    "- `request_playlist_videos` takes in parameters for the request and returns videos from the playlist"
   ]
  },
  {
   "cell_type": "code",
   "execution_count": 2,
   "id": "56155ab0-6458-478a-910d-fa66acb28fe0",
   "metadata": {
    "tags": []
   },
   "outputs": [],
   "source": [
    "playlistId = \"PLraFbwCoisJBTl0oXn8UoUam5HXWUZ7ES\"\n",
    "part = [\"contentDetails\", \"id\", \"snippet\", \"status\"] # all possible info\n",
    "\n",
    "import googleapiclient.discovery\n",
    "from time import gmtime, strftime\n",
    "import pandas as pd\n",
    "import warnings\n",
    "\n",
    "# API functions\n",
    "\n",
    "def get_api_key(file=\"secret.txt\"):\n",
    "    '''\n",
    "    Returns the YouTube API key as a string found in file.\n",
    "    \n",
    "    Please also make sure you DO NOT publicly expose this file!\n",
    "    '''\n",
    "    key = \"\"\n",
    "    with open(file) as f:\n",
    "        key = f.read()\n",
    "        \n",
    "    return key\n",
    "\n",
    "def get_youtube():\n",
    "    '''\n",
    "    Returns a YouTube Resource for interacting with the API\n",
    "    For more information: https://googleapis.github.io/google-api-python-client/docs/epy/googleapiclient.discovery-module.html\n",
    "    '''\n",
    "    api_service_name = \"youtube\"\n",
    "    api_version = \"v3\"\n",
    "    youtube = googleapiclient.discovery.build(\n",
    "        api_service_name, api_version, developerKey=get_api_key())\n",
    "    \n",
    "    return youtube\n",
    "\n",
    "def request_playlist_videos(youtube, part=','.join(part), playlistId=playlistId, maxResults=5, pageToken=\"\"):\n",
    "    '''\n",
    "    Makes and executes an HTTP request to get maxRresults videos and their part information from the playlistId.\n",
    "    Each request will be logged.\n",
    "    '''\n",
    "    params = {\n",
    "        \"part\": part,\n",
    "        \"playlistId\": playlistId,\n",
    "        \"maxResults\": maxResults,\n",
    "        \"pageToken\": pageToken\n",
    "    }\n",
    "    \n",
    "    result_code = 0\n",
    "    try:\n",
    "        request = youtube.playlistItems().list(**params)\n",
    "        response = request.execute()\n",
    "        result_code = 1\n",
    "    except:\n",
    "        warnings.warn(\"Bad request or response\")\n",
    "        result_code = -1\n",
    "    \n",
    "    log_playlistItems_call(result_code, params)\n",
    "    \n",
    "    return response\n"
   ]
  },
  {
   "cell_type": "markdown",
   "id": "708e8055-9e93-4135-990c-422210a29d60",
   "metadata": {},
   "source": [
    "## Logging API Calls\n",
    "\n",
    "It would be nice if we can keep track of when and how the API calls were made.\n"
   ]
  },
  {
   "cell_type": "code",
   "execution_count": 4,
   "id": "1e5996a4-e6c6-4782-8f45-ac9c495e08b4",
   "metadata": {
    "jupyter": {
     "source_hidden": true
    },
    "tags": []
   },
   "outputs": [],
   "source": [
    "from datetime import datetime, timezone\n",
    "\n",
    "# Functions to log API calls\n",
    "\n",
    "def get_current_time(timezone=timezone.utc):\n",
    "    '''\n",
    "    Returns a datetime object giving the current date and time\n",
    "    '''\n",
    "    now = datetime.now(timezone)\n",
    "    return now\n",
    "\n",
    "def serialize_datetime(dt):\n",
    "    '''\n",
    "    Returns and converts a datetime object into a ISO-formatted string.\n",
    "    '''\n",
    "    return dt.isoformat()\n",
    "\n",
    "def deserialize_datetime_string(dt_string):\n",
    "    '''\n",
    "    Converts an ISO-formatted time string into a datetime object.\n",
    "    '''\n",
    "    return datetime.fromisoformat(dt_string)\n",
    "\n",
    "def clear_call_logs(name=\"call_logs.csv\"):\n",
    "    log_df = pd.DataFrame({\n",
    "        \"part\": [],\n",
    "        \"playlistId\": [],\n",
    "        \"maxResults\": [],\n",
    "        \"pageToken\": [],\n",
    "        \"time\": [],\n",
    "        \"code\": [],\n",
    "    })\n",
    "    log_df.to_csv(name, header=True, index=False, mode='w')\n",
    "\n",
    "def log_playlistItems_call(result, params, name=\"call_logs.csv\"):\n",
    "    '''\n",
    "    Logs a row of input into file with the right name. Each record is one HTTP request containing the parameters of that request.\n",
    "    (part, playlistId, maxResults, pageToken, code, time)\n",
    "    (params, code, time)\n",
    "    \n",
    "    TODO:\n",
    "    - double check for headers in CSV file\n",
    "    '''\n",
    "    assert(type(params) == type({}))\n",
    "    params[\"time\"] = get_current_time()\n",
    "    df = pd.DataFrame({**params}, index=[0])\n",
    "    df['code'] = result\n",
    "    df.to_csv(name, header=False, index=False, mode=\"a\")\n",
    "    return df"
   ]
  },
  {
   "cell_type": "markdown",
   "id": "4907a104-9943-4de9-8607-f8f98ab8e29d",
   "metadata": {
    "tags": []
   },
   "source": [
    "#### Testing `playlistItems.list` and Logging"
   ]
  },
  {
   "cell_type": "code",
   "execution_count": 6,
   "id": "5a59029e-4d95-4166-a96e-9a4bfd82c6b5",
   "metadata": {
    "tags": []
   },
   "outputs": [],
   "source": [
    "clear_call_logs()\n",
    "\n",
    "youtube = get_youtube()\n",
    "response = request_playlist_videos(youtube)\n",
    "# response"
   ]
  },
  {
   "cell_type": "code",
   "execution_count": 8,
   "id": "eab9735f-68f7-4267-9e4f-40a8adf8df61",
   "metadata": {
    "tags": []
   },
   "outputs": [
    {
     "data": {
      "text/plain": [
       "'EAAaL1BUOkNBVWlFRGc0UkVJd1JEVTVOak0wTXprNU5qWW9BVWkxdWFTend1cUNBMUFC'"
      ]
     },
     "execution_count": 8,
     "metadata": {},
     "output_type": "execute_result"
    }
   ],
   "source": [
    "response['nextPageToken']"
   ]
  },
  {
   "cell_type": "code",
   "execution_count": 7,
   "id": "0f8f1798-6dac-46aa-9c6a-02413529fcdf",
   "metadata": {
    "collapsed": true,
    "jupyter": {
     "outputs_hidden": true
    },
    "tags": []
   },
   "outputs": [
    {
     "data": {
      "text/plain": [
       "{'kind': 'youtube#playlistItemListResponse',\n",
       " 'etag': 'BFggDhOJ-BSl52zuixypDBGh6LY',\n",
       " 'nextPageToken': 'EAAaL1BUOkNBVWlFRGc0UkVJd1JEVTVOak0wTXprNU5qWW9BVWkxdWFTend1cUNBMUFC',\n",
       " 'items': [{'kind': 'youtube#playlistItem',\n",
       "   'etag': 'xDS-oGO99hvdSXvE3C1sy_Le61I',\n",
       "   'id': 'UExyYUZid0NvaXNKQlRsMG9YbjhVb1VhbTVIWFdVWjdFUy43NjI0NDIxM0M3RTAxRTU5',\n",
       "   'snippet': {'publishedAt': '2023-11-30T00:58:29Z',\n",
       "    'channelId': 'UCKy1dAqELo0zrOtPkf0eTMw',\n",
       "    'title': 'SteamWorld Build Review',\n",
       "    'description': \"SteamWorld Build reviewed by Jon Bolding on PC, also available on PlayStation, Xbox, and Switch.\\n\\nSteamWorld Build is an enjoyable little city builder that doesn't give you grindy busywork or overstretch itself with bloated padding, focusing on a solid foundation of laying out a city and providing it with supplies. Its underground layer is a cool additional system that has you expanding, improving, and defending your mining operation in a way that matches the laid back pace of the surface nicely. At the same time, SteamWorld Build’s simplicity cuts both ways, and there isn’t much variety on return trips aside from fitting the old bits into new maps. That makes it a refreshing city builder worthy of a few fun weekends, but not a particularly deep one you're likely to boot up year after year.\",\n",
       "    'thumbnails': {'default': {'url': 'https://i.ytimg.com/vi/D4HMQ72YFSw/default.jpg',\n",
       "      'width': 120,\n",
       "      'height': 90},\n",
       "     'medium': {'url': 'https://i.ytimg.com/vi/D4HMQ72YFSw/mqdefault.jpg',\n",
       "      'width': 320,\n",
       "      'height': 180},\n",
       "     'high': {'url': 'https://i.ytimg.com/vi/D4HMQ72YFSw/hqdefault.jpg',\n",
       "      'width': 480,\n",
       "      'height': 360},\n",
       "     'standard': {'url': 'https://i.ytimg.com/vi/D4HMQ72YFSw/sddefault.jpg',\n",
       "      'width': 640,\n",
       "      'height': 480},\n",
       "     'maxres': {'url': 'https://i.ytimg.com/vi/D4HMQ72YFSw/maxresdefault.jpg',\n",
       "      'width': 1280,\n",
       "      'height': 720}},\n",
       "    'channelTitle': 'IGN',\n",
       "    'playlistId': 'PLraFbwCoisJBTl0oXn8UoUam5HXWUZ7ES',\n",
       "    'position': 0,\n",
       "    'resourceId': {'kind': 'youtube#video', 'videoId': 'D4HMQ72YFSw'},\n",
       "    'videoOwnerChannelTitle': 'IGN',\n",
       "    'videoOwnerChannelId': 'UCKy1dAqELo0zrOtPkf0eTMw'},\n",
       "   'contentDetails': {'videoId': 'D4HMQ72YFSw',\n",
       "    'videoPublishedAt': '2023-11-30T01:00:43Z'},\n",
       "   'status': {'privacyStatus': 'public'}},\n",
       "  {'kind': 'youtube#playlistItem',\n",
       "   'etag': 'Up534kEUovt906mje2ZQqs7AsO0',\n",
       "   'id': 'UExyYUZid0NvaXNKQlRsMG9YbjhVb1VhbTVIWFdVWjdFUy5DMkUxREVFOUM3NTE3QzI2',\n",
       "   'snippet': {'publishedAt': '2023-11-29T22:17:57Z',\n",
       "    'channelId': 'UCKy1dAqELo0zrOtPkf0eTMw',\n",
       "    'title': 'Lethal Company Early Access Review',\n",
       "    'description': 'Lethal Company reviewed in Early Access by Gabriel Moss on PC.\\n\\nThere’s nothing quite like a multiplayer survival-horror game that’s as unceasingly spooky as it is hilariously chaotic – and there are few that manage to balance horror and comedy as well as Lethal Company. Even in its early access phase, this co-op loot hunt manages to transcend its limited content and missing systems, making it a good time for those willing to brave its haunted halls – especially with the volume turned up. Still, there’s no real story to speak of, and its tension is deflated a bit by an unappealing and jankily animated art style, overused dungeon templates, and an unrealized progression system that feels as cold and lifeless as the void. We can expect to see a lot of that get improved on during early access, of course.\\n\\n#IGN #Gaming #LethalCompany',\n",
       "    'thumbnails': {'default': {'url': 'https://i.ytimg.com/vi/jK9rWsJcZAM/default.jpg',\n",
       "      'width': 120,\n",
       "      'height': 90},\n",
       "     'medium': {'url': 'https://i.ytimg.com/vi/jK9rWsJcZAM/mqdefault.jpg',\n",
       "      'width': 320,\n",
       "      'height': 180},\n",
       "     'high': {'url': 'https://i.ytimg.com/vi/jK9rWsJcZAM/hqdefault.jpg',\n",
       "      'width': 480,\n",
       "      'height': 360},\n",
       "     'standard': {'url': 'https://i.ytimg.com/vi/jK9rWsJcZAM/sddefault.jpg',\n",
       "      'width': 640,\n",
       "      'height': 480},\n",
       "     'maxres': {'url': 'https://i.ytimg.com/vi/jK9rWsJcZAM/maxresdefault.jpg',\n",
       "      'width': 1280,\n",
       "      'height': 720}},\n",
       "    'channelTitle': 'IGN',\n",
       "    'playlistId': 'PLraFbwCoisJBTl0oXn8UoUam5HXWUZ7ES',\n",
       "    'position': 1,\n",
       "    'resourceId': {'kind': 'youtube#video', 'videoId': 'jK9rWsJcZAM'},\n",
       "    'videoOwnerChannelTitle': 'IGN',\n",
       "    'videoOwnerChannelId': 'UCKy1dAqELo0zrOtPkf0eTMw'},\n",
       "   'contentDetails': {'videoId': 'jK9rWsJcZAM',\n",
       "    'videoPublishedAt': '2023-11-29T22:17:57Z'},\n",
       "   'status': {'privacyStatus': 'public'}},\n",
       "  {'kind': 'youtube#playlistItem',\n",
       "   'etag': 'Kiig37DtnmX5IjVMvwF7Zj73mV4',\n",
       "   'id': 'UExyYUZid0NvaXNKQlRsMG9YbjhVb1VhbTVIWFdVWjdFUy5DNTU5ODZFQTY2OUE5NkIw',\n",
       "   'snippet': {'publishedAt': '2023-11-22T05:37:45Z',\n",
       "    'channelId': 'UCKy1dAqELo0zrOtPkf0eTMw',\n",
       "    'title': 'Bluey: The Videogame Video Review',\n",
       "    'description': 'Bluey: The Videogame reviewed by Luke Reilly on Xbox Series X. Also available on PlayStation, Xbox One, Switch, and PC.\\n\\n\"Wedged somewhere between Wi-Fi and The Wiggles as one of Australia’s greatest exports, Bluey has been a staggeringly successful animated series. Tens of billions of minutes of the show have been streamed into households in more than 60 countries, and the Heelers have subsequently been transformed into over 1,000 bits of merchandising tat. In an unfortunate turn of events, Bluey: The Videogame feels a lot like another forgettable piece of the latter, hovering somewhere between the countless toys and the tubes of licensed toothpaste. Low on innovation and high on what feels like contractual obligation, Bluey: The Videogame is really a low-effort mobile game masquerading as a mid-price console and PC product. It may absolutely look the part compared to the show itself, but with its assortment of shallow minigames rife with annoying bugs, frustrating controls, and a bafflingly brief runtime of a little over an hour, the end result is sadly a lot like one of Bandit’s duck cakes: a bit bodgy.\"',\n",
       "    'thumbnails': {'default': {'url': 'https://i.ytimg.com/vi/_ELijbbsFxs/default.jpg',\n",
       "      'width': 120,\n",
       "      'height': 90},\n",
       "     'medium': {'url': 'https://i.ytimg.com/vi/_ELijbbsFxs/mqdefault.jpg',\n",
       "      'width': 320,\n",
       "      'height': 180},\n",
       "     'high': {'url': 'https://i.ytimg.com/vi/_ELijbbsFxs/hqdefault.jpg',\n",
       "      'width': 480,\n",
       "      'height': 360},\n",
       "     'standard': {'url': 'https://i.ytimg.com/vi/_ELijbbsFxs/sddefault.jpg',\n",
       "      'width': 640,\n",
       "      'height': 480},\n",
       "     'maxres': {'url': 'https://i.ytimg.com/vi/_ELijbbsFxs/maxresdefault.jpg',\n",
       "      'width': 1280,\n",
       "      'height': 720}},\n",
       "    'channelTitle': 'IGN',\n",
       "    'playlistId': 'PLraFbwCoisJBTl0oXn8UoUam5HXWUZ7ES',\n",
       "    'position': 2,\n",
       "    'resourceId': {'kind': 'youtube#video', 'videoId': '_ELijbbsFxs'},\n",
       "    'videoOwnerChannelTitle': 'IGN',\n",
       "    'videoOwnerChannelId': 'UCKy1dAqELo0zrOtPkf0eTMw'},\n",
       "   'contentDetails': {'videoId': '_ELijbbsFxs',\n",
       "    'videoPublishedAt': '2023-11-22T05:39:40Z'},\n",
       "   'status': {'privacyStatus': 'public'}},\n",
       "  {'kind': 'youtube#playlistItem',\n",
       "   'etag': 'UFiIjmkfyC8UWJrf5Pu123MdcTg',\n",
       "   'id': 'UExyYUZid0NvaXNKQlRsMG9YbjhVb1VhbTVIWFdVWjdFUy4yNUNDM0IyQkFCN0IyRkQ3',\n",
       "   'snippet': {'publishedAt': '2023-11-22T01:06:30Z',\n",
       "    'channelId': 'UCKy1dAqELo0zrOtPkf0eTMw',\n",
       "    'title': 'PlayStation Pulse Explore Wireless Earbuds Review',\n",
       "    'description': 'Sony’s Pulse Explore Earbuds are laser-focused on, and deliver, high-quality sound for gaming, but that leaves little room for many features that are found in comparable Bluetooth earbuds in this price range.\\n\\n#IGN #Gaming #PS5',\n",
       "    'thumbnails': {'default': {'url': 'https://i.ytimg.com/vi/7wHl8HzvRcI/default.jpg',\n",
       "      'width': 120,\n",
       "      'height': 90},\n",
       "     'medium': {'url': 'https://i.ytimg.com/vi/7wHl8HzvRcI/mqdefault.jpg',\n",
       "      'width': 320,\n",
       "      'height': 180},\n",
       "     'high': {'url': 'https://i.ytimg.com/vi/7wHl8HzvRcI/hqdefault.jpg',\n",
       "      'width': 480,\n",
       "      'height': 360},\n",
       "     'standard': {'url': 'https://i.ytimg.com/vi/7wHl8HzvRcI/sddefault.jpg',\n",
       "      'width': 640,\n",
       "      'height': 480},\n",
       "     'maxres': {'url': 'https://i.ytimg.com/vi/7wHl8HzvRcI/maxresdefault.jpg',\n",
       "      'width': 1280,\n",
       "      'height': 720}},\n",
       "    'channelTitle': 'IGN',\n",
       "    'playlistId': 'PLraFbwCoisJBTl0oXn8UoUam5HXWUZ7ES',\n",
       "    'position': 3,\n",
       "    'resourceId': {'kind': 'youtube#video', 'videoId': '7wHl8HzvRcI'},\n",
       "    'videoOwnerChannelTitle': 'IGN',\n",
       "    'videoOwnerChannelId': 'UCKy1dAqELo0zrOtPkf0eTMw'},\n",
       "   'contentDetails': {'videoId': '7wHl8HzvRcI',\n",
       "    'videoPublishedAt': '2023-11-22T16:00:04Z'},\n",
       "   'status': {'privacyStatus': 'public'}},\n",
       "  {'kind': 'youtube#playlistItem',\n",
       "   'etag': 'QAlTJCXnZfvqHWjZyX0Y0Dh_-_s',\n",
       "   'id': 'UExyYUZid0NvaXNKQlRsMG9YbjhVb1VhbTVIWFdVWjdFUy5DRjRFMTgxRjFGOTNDQ0Y3',\n",
       "   'snippet': {'publishedAt': '2023-11-21T06:46:53Z',\n",
       "    'channelId': 'UCKy1dAqELo0zrOtPkf0eTMw',\n",
       "    'title': 'Flashback 2 Review',\n",
       "    'description': 'Flashback 2 reviewed by Tristan Ogilvie on PlayStation 5. Also available on PC and Xbox Series X|S.\\n\\n\"While the original Flashback is an Amiga classic, Flashback 2 can only be described as a meagre sequel. Rehashed story elements, dull and clunky combat, a shockingly modest presentation, peculiar design decisions, and wholly unacceptable technical deficiencies (the bulk of which persist even after two post-release patches) make for an adventure that left me underwhelmed at best and utterly infuriated at worst. While I’ll always feel nostalgic for Conrad Hart’s original adventure, Flashback 2 is unfortunately not the blast from the past I had hoped for – instead, it’s a total misfire.\"',\n",
       "    'thumbnails': {'default': {'url': 'https://i.ytimg.com/vi/u0yA9jPNDc8/default.jpg',\n",
       "      'width': 120,\n",
       "      'height': 90},\n",
       "     'medium': {'url': 'https://i.ytimg.com/vi/u0yA9jPNDc8/mqdefault.jpg',\n",
       "      'width': 320,\n",
       "      'height': 180},\n",
       "     'high': {'url': 'https://i.ytimg.com/vi/u0yA9jPNDc8/hqdefault.jpg',\n",
       "      'width': 480,\n",
       "      'height': 360},\n",
       "     'standard': {'url': 'https://i.ytimg.com/vi/u0yA9jPNDc8/sddefault.jpg',\n",
       "      'width': 640,\n",
       "      'height': 480},\n",
       "     'maxres': {'url': 'https://i.ytimg.com/vi/u0yA9jPNDc8/maxresdefault.jpg',\n",
       "      'width': 1280,\n",
       "      'height': 720}},\n",
       "    'channelTitle': 'IGN',\n",
       "    'playlistId': 'PLraFbwCoisJBTl0oXn8UoUam5HXWUZ7ES',\n",
       "    'position': 4,\n",
       "    'resourceId': {'kind': 'youtube#video', 'videoId': 'u0yA9jPNDc8'},\n",
       "    'videoOwnerChannelTitle': 'IGN',\n",
       "    'videoOwnerChannelId': 'UCKy1dAqELo0zrOtPkf0eTMw'},\n",
       "   'contentDetails': {'videoId': 'u0yA9jPNDc8',\n",
       "    'videoPublishedAt': '2023-11-21T06:49:06Z'},\n",
       "   'status': {'privacyStatus': 'public'}}],\n",
       " 'pageInfo': {'totalResults': 2178, 'resultsPerPage': 5}}"
      ]
     },
     "execution_count": 7,
     "metadata": {},
     "output_type": "execute_result"
    }
   ],
   "source": [
    "response.it"
   ]
  },
  {
   "cell_type": "markdown",
   "id": "fbc56a13-ccd8-42bf-8558-c276c8ceef96",
   "metadata": {},
   "source": [
    "## Fetching all videos from the playlist\n",
    "\n",
    "Now that each API call for is logged, it's easier to reproduce the steps to catch a mistake.\n",
    "\n",
    "Uncomment the last line below to run the function."
   ]
  },
  {
   "cell_type": "code",
   "execution_count": 149,
   "id": "2bc473c8-7b15-4179-936d-7c7c15e738af",
   "metadata": {
    "tags": []
   },
   "outputs": [],
   "source": [
    "def download_current_videos():\n",
    "    clear_call_logs()\n",
    "    \n",
    "    max_results = 50\n",
    "    max_video_count = 2179 # 5*50\n",
    "    youtube = get_youtube()\n",
    "\n",
    "    nextPageToken = \"\"\n",
    "    video_count = 0\n",
    "    request_number = 0\n",
    "    while nextPageToken != None:    \n",
    "        results = request_playlist_videos(youtube, maxResults=max_results, pageToken=nextPageToken)\n",
    "        with open(f\"./results/{request_number}.json\", \"w\") as fp:\n",
    "            json.dump(results, fp)\n",
    "\n",
    "        try:\n",
    "            nextPageToken = results[\"nextPageToken\"]\n",
    "        except:\n",
    "            nextPageToken = None\n",
    "\n",
    "        try:\n",
    "            video_count += len(results[\"items\"])\n",
    "        except:\n",
    "            video_count += 0\n",
    "\n",
    "        request_number += 1\n",
    "\n",
    "        print(f\"{round(video_count / max_video_count * 100, 2)}%\", end=\"\\r\")\n",
    "        \n",
    "# wrap this in a function so can comment out and not accidentally run the whole thing\n",
    "# download_current_videos()"
   ]
  },
  {
   "cell_type": "code",
   "execution_count": 148,
   "id": "272a8532-f1df-4603-b0e0-23cbeaa8a487",
   "metadata": {
    "tags": []
   },
   "outputs": [
    {
     "name": "stdout",
     "output_type": "stream",
     "text": [
      "2178\n",
      "2178\n",
      "Above 2 should match\n",
      "-------\n",
      "44\n"
     ]
    }
   ],
   "source": [
    "# double check that we have the video counts right\n",
    "# can also verify counts here: https://www.youtube.com/playlist?list=PLraFbwCoisJBTl0oXn8UoUam5HXWUZ7ES\n",
    "import json\n",
    "\n",
    "with open(\"./results/0.json\", \"r\") as fp:\n",
    "    r = json.load(fp)\n",
    "\n",
    "print(r[\"pageInfo\"][\"totalResults\"])\n",
    "print(video_count)\n",
    "print(\"Above 2 should match\")\n",
    "print(\"-------\")\n",
    "print(request_number)"
   ]
  },
  {
   "cell_type": "markdown",
   "id": "d7c06ca9-7b53-4a90-a07a-43aa2e593f6b",
   "metadata": {},
   "source": [
    "## Appending new videos\n",
    "\n",
    "Now that the *current* videos from the playlist have been downloaded, how will new data be appended to the current data?\n",
    "\n",
    "There's also webhooks: https://developers.google.com/youtube/v3/guides/push_notifications\n",
    "\n",
    "Strategy: only save new ones. Do not let old ones get through.\n",
    "\n",
    "1. Ask playlist for 50 items. If the last item (oldest) is still considered new, then save results and poll again.\n",
    "2. If the last item is old, then binary search for cutoff point."
   ]
  },
  {
   "cell_type": "code",
   "execution_count": 3,
   "id": "03340c82-5a89-4afb-b7e4-e15111d9c751",
   "metadata": {},
   "outputs": [],
   "source": [
    "import sys\n",
    "sys.path.append('..')"
   ]
  },
  {
   "cell_type": "code",
   "execution_count": 6,
   "id": "cfee219d-2981-4fd8-a20e-ae9749d4e9a1",
   "metadata": {
    "tags": []
   },
   "outputs": [],
   "source": [
    "sys.path.append(f\"{sys.path[0]}/..\")"
   ]
  },
  {
   "cell_type": "code",
   "execution_count": 7,
   "id": "927863c5-be8e-4a2f-820f-0e9cb8009964",
   "metadata": {
    "tags": []
   },
   "outputs": [
    {
     "data": {
      "text/plain": [
       "['/home/phood/Documents/GitHub/Reviewing-Game-Reviews/Ingestion/playlist',\n",
       " '/home/phood/Documents/Anaconda/Installation/anaconda3/envs/slit/lib/python311.zip',\n",
       " '/home/phood/Documents/Anaconda/Installation/anaconda3/envs/slit/lib/python3.11',\n",
       " '/home/phood/Documents/Anaconda/Installation/anaconda3/envs/slit/lib/python3.11/lib-dynload',\n",
       " '',\n",
       " '/home/phood/Documents/Anaconda/Installation/anaconda3/envs/slit/lib/python3.11/site-packages',\n",
       " '..',\n",
       " '/home/phood/Documents/GitHub/Reviewing-Game-Reviews/Ingestion/playlist/..']"
      ]
     },
     "execution_count": 7,
     "metadata": {},
     "output_type": "execute_result"
    }
   ],
   "source": [
    "sys.path"
   ]
  },
  {
   "cell_type": "code",
   "execution_count": 8,
   "id": "7bfb0174-d73e-4364-ad00-d4154e2edf4d",
   "metadata": {
    "tags": []
   },
   "outputs": [],
   "source": [
    "import api_key"
   ]
  },
  {
   "cell_type": "code",
   "execution_count": null,
   "id": "a38b94e8-ef11-4bcc-b44c-1e0f6cae74e2",
   "metadata": {},
   "outputs": [],
   "source": [
    "def poll():\n",
    "    '''\n",
    "    Only to consider merging JSON file\n",
    "    '''\n",
    "    pass"
   ]
  },
  {
   "cell_type": "code",
   "execution_count": 130,
   "id": "809f3590-b5e7-4149-b7b8-e211eff191ee",
   "metadata": {
    "tags": []
   },
   "outputs": [],
   "source": [
    "import os\n",
    "\n",
    "http_results = os.listdir(\"./results\")\n"
   ]
  },
  {
   "cell_type": "code",
   "execution_count": 135,
   "id": "e616c6f9-4e1b-4b94-bf41-3b08638e52f7",
   "metadata": {
    "tags": []
   },
   "outputs": [
    {
     "data": {
      "text/plain": [
       "44"
      ]
     },
     "execution_count": 135,
     "metadata": {},
     "output_type": "execute_result"
    }
   ],
   "source": [
    "len(http_results[0:4] + http_results[5:])"
   ]
  },
  {
   "cell_type": "code",
   "execution_count": 136,
   "id": "ef21193c-4cfa-4967-8bd3-9c4e1f698044",
   "metadata": {
    "tags": []
   },
   "outputs": [
    {
     "data": {
      "text/plain": [
       "2200"
      ]
     },
     "execution_count": 136,
     "metadata": {},
     "output_type": "execute_result"
    }
   ],
   "source": [
    "44*50"
   ]
  },
  {
   "cell_type": "code",
   "execution_count": 129,
   "id": "7e84cfa9-b527-4a40-a3d0-4178d5337b29",
   "metadata": {
    "tags": []
   },
   "outputs": [
    {
     "name": "stdout",
     "output_type": "stream",
     "text": [
      "2200\n"
     ]
    }
   ],
   "source": [
    "print(video_count)"
   ]
  }
 ],
 "metadata": {
  "kernelspec": {
   "display_name": "Python 3 (ipykernel)",
   "language": "python",
   "name": "python3"
  },
  "language_info": {
   "codemirror_mode": {
    "name": "ipython",
    "version": 3
   },
   "file_extension": ".py",
   "mimetype": "text/x-python",
   "name": "python",
   "nbconvert_exporter": "python",
   "pygments_lexer": "ipython3",
   "version": "3.11.5"
  }
 },
 "nbformat": 4,
 "nbformat_minor": 5
}
