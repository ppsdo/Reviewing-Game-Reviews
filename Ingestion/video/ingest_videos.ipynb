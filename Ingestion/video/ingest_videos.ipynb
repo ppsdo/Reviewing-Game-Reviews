{
 "cells": [
  {
   "cell_type": "markdown",
   "id": "0c76f419-f305-4784-952f-7cbc0931e638",
   "metadata": {},
   "source": [
    "# Ingesting each Video in Playlist\n",
    "\n",
    "Want likes, viewcounts, etc. for each video in the playlist."
   ]
  },
  {
   "cell_type": "markdown",
   "id": "8a06fc01-9a18-44a2-9887-92966e203a3e",
   "metadata": {},
   "source": [
    "## Setting up the directories\n",
    "\n",
    "Access modules for indistinguishable processing."
   ]
  },
  {
   "cell_type": "code",
   "execution_count": 1,
   "id": "d6465db0-d0cc-4d27-9813-96d45a176070",
   "metadata": {
    "tags": []
   },
   "outputs": [
    {
     "data": {
      "text/plain": [
       "['/home/phood/Documents/GitHub/Reviewing-Game-Reviews/Ingestion/video',\n",
       " '/home/phood/Documents/Anaconda/Installation/anaconda3/envs/slit/lib/python311.zip',\n",
       " '/home/phood/Documents/Anaconda/Installation/anaconda3/envs/slit/lib/python3.11',\n",
       " '/home/phood/Documents/Anaconda/Installation/anaconda3/envs/slit/lib/python3.11/lib-dynload',\n",
       " '',\n",
       " '/home/phood/Documents/Anaconda/Installation/anaconda3/envs/slit/lib/python3.11/site-packages',\n",
       " '/home/phood/Documents/GitHub/Reviewing-Game-Reviews/Ingestion']"
      ]
     },
     "execution_count": 1,
     "metadata": {},
     "output_type": "execute_result"
    }
   ],
   "source": [
    "from pathlib import Path\n",
    "import sys\n",
    "\n",
    "parent_path = Path().absolute().parent # not the same as parent and then absolute. `.` directory does not have a parent\n",
    "sys.path.append(str(parent_path))\n",
    "sys.path"
   ]
  },
  {
   "cell_type": "markdown",
   "id": "add09a3f-7968-4215-8cd8-5f2e25cf5667",
   "metadata": {},
   "source": [
    "## Requesting videos\n",
    "\n",
    "The YouTube API allows the user to pass in `videoId`s to get data for each video with that `videoId`."
   ]
  },
  {
   "cell_type": "markdown",
   "id": "46c23b37-49a2-4082-bcd1-3792137cc263",
   "metadata": {},
   "source": [
    "### Getting the `videoId`s\n",
    "\n",
    "`videoId`s can be found in the `snippet` of each `item` from the ingested playlist.\n",
    "\n",
    "Goal: get `videoIds`"
   ]
  },
  {
   "cell_type": "code",
   "execution_count": 6,
   "id": "d0a84617-f0f6-40fe-b1e5-f8a30061d751",
   "metadata": {
    "tags": []
   },
   "outputs": [
    {
     "data": {
      "text/plain": [
       "PosixPath('/home/phood/Documents/GitHub/Reviewing-Game-Reviews/Ingestion/playlist/results')"
      ]
     },
     "execution_count": 6,
     "metadata": {},
     "output_type": "execute_result"
    }
   ],
   "source": [
    "ingested_playlist_path = Path().absolute().parent.joinpath(\"playlist/results\")\n",
    "ingested_playlist_path"
   ]
  },
  {
   "cell_type": "code",
   "execution_count": 19,
   "id": "ed709881-a606-408a-8c60-d8b2a48a4c63",
   "metadata": {
    "collapsed": true,
    "jupyter": {
     "outputs_hidden": true
    },
    "tags": []
   },
   "outputs": [
    {
     "data": {
      "text/plain": [
       "0     {'publishedAt': '2017-03-20T16:41:48Z', 'chann...\n",
       "1     {'publishedAt': '2017-03-18T01:00:10Z', 'chann...\n",
       "2     {'publishedAt': '2017-03-17T18:00:21Z', 'chann...\n",
       "3     {'publishedAt': '2017-03-17T00:30:21Z', 'chann...\n",
       "4     {'publishedAt': '2017-03-15T02:15:10Z', 'chann...\n",
       "5     {'publishedAt': '2017-03-09T02:30:19Z', 'chann...\n",
       "6     {'publishedAt': '2017-03-08T01:21:25Z', 'chann...\n",
       "7     {'publishedAt': '2017-03-07T18:00:14Z', 'chann...\n",
       "8     {'publishedAt': '2017-03-07T13:00:10Z', 'chann...\n",
       "9     {'publishedAt': '2017-03-07T08:01:34Z', 'chann...\n",
       "10    {'publishedAt': '2017-03-07T02:00:14Z', 'chann...\n",
       "11    {'publishedAt': '2017-03-06T14:00:13Z', 'chann...\n",
       "12    {'publishedAt': '2017-03-02T12:00:25Z', 'chann...\n",
       "13    {'publishedAt': '2017-03-02T11:00:21Z', 'chann...\n",
       "14    {'publishedAt': '2017-03-02T09:00:24Z', 'chann...\n",
       "15    {'publishedAt': '2017-03-01T14:09:00Z', 'chann...\n",
       "16    {'publishedAt': '2017-02-28T21:24:19Z', 'chann...\n",
       "17    {'publishedAt': '2017-02-22T02:08:05Z', 'chann...\n",
       "18    {'publishedAt': '2017-02-22T01:00:16Z', 'chann...\n",
       "19    {'publishedAt': '2017-02-20T08:01:41Z', 'chann...\n",
       "20    {'publishedAt': '2017-02-18T02:01:59Z', 'chann...\n",
       "21    {'publishedAt': '2017-02-16T15:35:09Z', 'chann...\n",
       "22    {'publishedAt': '2017-02-14T02:30:17Z', 'chann...\n",
       "23    {'publishedAt': '2017-02-13T18:00:10Z', 'chann...\n",
       "24    {'publishedAt': '2017-02-08T00:31:16Z', 'chann...\n",
       "25    {'publishedAt': '2017-02-06T16:17:20Z', 'chann...\n",
       "26    {'publishedAt': '2017-02-04T01:46:18Z', 'chann...\n",
       "27    {'publishedAt': '2017-02-02T22:30:52Z', 'chann...\n",
       "28    {'publishedAt': '2017-02-01T16:01:25Z', 'chann...\n",
       "29    {'publishedAt': '2017-01-28T02:30:29Z', 'chann...\n",
       "30    {'publishedAt': '2017-01-26T02:00:12Z', 'chann...\n",
       "31    {'publishedAt': '2017-01-23T17:30:14Z', 'chann...\n",
       "32    {'publishedAt': '2017-01-23T16:00:19Z', 'chann...\n",
       "33    {'publishedAt': '2017-01-19T20:00:20Z', 'chann...\n",
       "34    {'publishedAt': '2017-01-11T01:00:14Z', 'chann...\n",
       "35    {'publishedAt': '2016-12-21T18:00:21Z', 'chann...\n",
       "36    {'publishedAt': '2016-12-21T13:00:20Z', 'chann...\n",
       "37    {'publishedAt': '2016-12-20T23:30:11Z', 'chann...\n",
       "38    {'publishedAt': '2016-12-20T18:30:09Z', 'chann...\n",
       "39    {'publishedAt': '2016-12-16T03:00:11Z', 'chann...\n",
       "40    {'publishedAt': '2016-12-16T02:00:21Z', 'chann...\n",
       "41    {'publishedAt': '2016-12-15T18:00:15Z', 'chann...\n",
       "42    {'publishedAt': '2016-12-13T08:09:18Z', 'chann...\n",
       "43    {'publishedAt': '2016-12-08T01:00:18Z', 'chann...\n",
       "44    {'publishedAt': '2016-12-06T22:30:10Z', 'chann...\n",
       "45    {'publishedAt': '2016-12-05T16:30:12Z', 'chann...\n",
       "46    {'publishedAt': '2016-12-05T15:00:23Z', 'chann...\n",
       "47    {'publishedAt': '2016-12-05T10:59:15Z', 'chann...\n",
       "48    {'publishedAt': '2016-12-02T14:00:19Z', 'chann...\n",
       "49    {'publishedAt': '2016-11-30T18:00:33Z', 'chann...\n",
       "Name: snippet, dtype: object"
      ]
     },
     "execution_count": 19,
     "metadata": {},
     "output_type": "execute_result"
    }
   ],
   "source": [
    "pd.DataFrame(result['items'])['snippet']"
   ]
  },
  {
   "cell_type": "code",
   "execution_count": 21,
   "id": "21951d7d-590a-445d-b9b7-4379b9760b51",
   "metadata": {
    "tags": []
   },
   "outputs": [
    {
     "data": {
      "text/plain": [
       "2178"
      ]
     },
     "execution_count": 21,
     "metadata": {},
     "output_type": "execute_result"
    }
   ],
   "source": [
    "import pandas as pd\n",
    "import json\n",
    "\n",
    "def get_videoId(playlistItems_list_result):\n",
    "    '''\n",
    "    Returns the videoId of a playlistItems_result, the response one gets from a successful youtube.playlistItems().list call.\n",
    "    '''\n",
    "    items = playlistItems_list_result['items']\n",
    "    videoIds = pd.DataFrame(items)['snippet'].apply(lambda d: d['resourceId']['videoId'])\n",
    "    return list(videoIds)\n",
    "\n",
    "videoIds = []\n",
    "for j in ingested_playlist_path.glob('*.json'):\n",
    "    with open(j, 'r') as fp:\n",
    "        result = json.load(fp)\n",
    "        videoIds.extend(get_videoId(result))\n",
    "        \n",
    "len(videoIds)"
   ]
  },
  {
   "cell_type": "markdown",
   "id": "3b9f4a32-7b45-4683-bb83-3bba77556c03",
   "metadata": {},
   "source": [
    "### Calling the API\n",
    "\n",
    "Goal: a bunch of JSON files in the results folder from calling `youtube.videos().list`"
   ]
  },
  {
   "cell_type": "code",
   "execution_count": 25,
   "id": "cc9ac618-2641-403f-903d-4c7957c19a3f",
   "metadata": {
    "tags": []
   },
   "outputs": [
    {
     "name": "stdout",
     "output_type": "stream",
     "text": [
      "100.0%\r"
     ]
    }
   ],
   "source": [
    "import api_key\n",
    "\n",
    "def download_videos():\n",
    "    youtube = api_key.get_youtube()\n",
    "\n",
    "    video_count = 0\n",
    "    request_number = 0\n",
    "    for start_index in range(0, len(videoIds), 50):\n",
    "        videoIds_to_process = list(videoIds)[start_index:(start_index + 50)]\n",
    "\n",
    "        request = youtube.videos().list(\n",
    "            part=\"contentDetails,id,liveStreamingDetails,localizations,player,recordingDetails,snippet,statistics,status,topicDetails\",\n",
    "            id=','.join(videoIds_to_process),\n",
    "            maxResults=50\n",
    "        )\n",
    "        response = request.execute()\n",
    "\n",
    "        with open(f\"results/{request_number}.json\", \"w\") as fp:\n",
    "            json.dump(response, fp)\n",
    "\n",
    "        request_number += 1\n",
    "        video_count += len(videoIds_to_process)\n",
    "\n",
    "        print(f\"{round(video_count / len(videoIds) * 100, 2)}%\", end=\"\\r\")\n",
    "        \n",
    "# wrap inside function to avoid accidentally calling it\n",
    "# download_videos()"
   ]
  },
  {
   "cell_type": "code",
   "execution_count": null,
   "id": "78ee08ef-2bc1-4385-b41f-05f9fdd35dc7",
   "metadata": {},
   "outputs": [],
   "source": []
  }
 ],
 "metadata": {
  "kernelspec": {
   "display_name": "Python 3 (ipykernel)",
   "language": "python",
   "name": "python3"
  },
  "language_info": {
   "codemirror_mode": {
    "name": "ipython",
    "version": 3
   },
   "file_extension": ".py",
   "mimetype": "text/x-python",
   "name": "python",
   "nbconvert_exporter": "python",
   "pygments_lexer": "ipython3",
   "version": "3.11.5"
  }
 },
 "nbformat": 4,
 "nbformat_minor": 5
}
