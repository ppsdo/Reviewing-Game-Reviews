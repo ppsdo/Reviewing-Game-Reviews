{
 "cells": [
  {
   "cell_type": "code",
   "execution_count": 1,
   "id": "a120d1be-7d05-4546-96b8-4009d08764f6",
   "metadata": {
    "tags": []
   },
   "outputs": [],
   "source": [
    "from pathlib import Path\n",
    "import sys\n",
    "\n",
    "sys.path.append(str(Path().absolute().parent))\n",
    "# sys.path"
   ]
  },
  {
   "cell_type": "markdown",
   "id": "c841ffcf-919d-4cf3-ab3d-00e8d94a5480",
   "metadata": {},
   "source": [
    "# Scraping for score\n",
    "For a video to classify as a game review, searching for the title they're reviewing plus \"metacritic\" should yield metacritic's website as one of the first search results.\n",
    "\n",
    "As far as I can see, there are 2 possible approaches to get the score:\n",
    "1. Look through each frame of the video to find some picture that has the score.\n",
    "2. Search for the review on IGN's website."
   ]
  },
  {
   "cell_type": "code",
   "execution_count": 2,
   "id": "db5f51bb-ea5e-4e45-b626-c7872e1476d2",
   "metadata": {
    "tags": []
   },
   "outputs": [],
   "source": [
    "import pandas as pd\n",
    "\n",
    "def read_video_csv(source=\"../video/db/video.csv\"):\n",
    "    df = pd.read_csv(source)\n",
    "    \n",
    "    return df\n",
    "\n",
    "# df = read_video_csv()\n",
    "# df.head()"
   ]
  },
  {
   "cell_type": "markdown",
   "id": "f1b06b91-d47a-41a1-b6e6-171b612ecfb2",
   "metadata": {},
   "source": [
    "### Deciding on a method to find the score\n",
    "Sample for video ids to see if some methods work. Manual work on some of these.\n",
    "Better than scrolling through the playlist on youtube.\n",
    "\n",
    "For each of the video id in `sample`, manually find the score to see which method is more reliable."
   ]
  },
  {
   "cell_type": "code",
   "execution_count": 10,
   "id": "1493d601-dc5e-4f84-ba0d-7f40ecbbdb8d",
   "metadata": {
    "tags": []
   },
   "outputs": [
    {
     "data": {
      "text/plain": [
       "['1HiVB_sz1DA',\n",
       " 'l51UJqOsHzA',\n",
       " 'caL_qhUIqhk',\n",
       " 'FAXxQLLIZFI',\n",
       " 'CP4TFr4TR1k',\n",
       " 'k-caUhgBPCY',\n",
       " 'dt2fImlT5xg',\n",
       " 'Dqbbu2hWSpM',\n",
       " 'Qae88uZDvtg',\n",
       " 'R3rpDY0Gw1I',\n",
       " 'Olzg8RHwXjQ',\n",
       " 'cRzs5-2whLk',\n",
       " 'IsUbRNUF6JI',\n",
       " '4vwZNtvev8g',\n",
       " 'ow5Jkxv2Qv0']"
      ]
     },
     "execution_count": 10,
     "metadata": {},
     "output_type": "execute_result"
    }
   ],
   "source": [
    "import numpy as np\n",
    "np.random.seed(42)\n",
    "\n",
    "df = read_video_csv()\n",
    "\n",
    "n = df.shape[0]\n",
    "# 5 recent ones, 5 semi-recent ones, and 5 old ones\n",
    "sample = [\n",
    "    *list(df['id'][:int(n/3)].sample(5)),\n",
    "    *list(df['id'][int(n/3):int(2*n/3)].sample(5)),\n",
    "    *list(df['id'][int(2*n/3):].sample(5))\n",
    "]\n",
    "sample"
   ]
  },
  {
   "cell_type": "markdown",
   "id": "ec0b37fe-125c-425d-ac83-6854afe3bc5c",
   "metadata": {},
   "source": [
    "#### Implementing Score Scraping\n",
    "\n",
    "It has been decided that scores will be scraped by the following method:\n",
    "\n",
    "1. Check if the video is actually reviewing a game. If it is a game, then move on to step 2. Otherwise, skip it.\n",
    "    - The game should have its own metacritic page. If it does, it's very likely that when searching for the game along with the keyword \"metacritic\", the very first search result will be its metacritic page.\n",
    "    - Duck Duck Go will be used just for convenience.\n",
    "    - The titles will also have to be cleaned before putting them into the search engine (e.g. removing \"review\" and \"commentary\" at the end of the titles; making the titles are url encoded).\n",
    "    \n",
    "2. Go through the last 60 seconds of the video and look for the score.\n",
    "    - Scraping is unreliable. See video id `UWVMHYKv6_4`, with the video title \"Broken Age: The Complete Adventure Review Commentary\". The video has a score, but IGN's article does not.\n",
    "    - It is also more consistent with what the audience will experience."
   ]
  },
  {
   "cell_type": "code",
   "execution_count": 77,
   "id": "7f342c2a-2e5d-4c96-9de8-600b5e0644b0",
   "metadata": {
    "tags": []
   },
   "outputs": [
    {
     "data": {
      "text/plain": [
       "'Pok%C3%A9mon+Sword+and+Shield%3A+The+Crown+Tundra+DLC+Review'"
      ]
     },
     "execution_count": 77,
     "metadata": {},
     "output_type": "execute_result"
    }
   ],
   "source": [
    "import urllib\n",
    "safe_string = urllib.parse.quote_plus(\"Pokémon Sword and Shield: The Crown Tundra DLC Review\")\n",
    "safe_string"
   ]
  },
  {
   "cell_type": "code",
   "execution_count": 87,
   "id": "5b2b6df3-5d2e-4b23-84f3-a3e7e3bdea75",
   "metadata": {
    "tags": []
   },
   "outputs": [],
   "source": [
    "import urllib\n",
    "import requests\n",
    "from bs4 import BeautifulSoup as soup\n",
    "\n",
    "def clean_video_title(title):\n",
    "    title = str(title).lower()\n",
    "    title = title.replace(\"review commentary\", \"\").replace(\"commentary review\", \"review\")\\\n",
    "                .replace(\"video review\", \"\").replace(\"review video\", \"\")\\\n",
    "                .replace(\"review\", \"\").replace(\"commentary\", \"\")\n",
    "    title = title.strip()\n",
    "    title = urllib.parse.quote_plus(title)\n",
    "    return title\n",
    "\n",
    "def search_metacritic_video_title(title):\n",
    "    headers = {\"User-Agent\": \"Mozilla/5.0 (Windows NT 10.0; Win64; x64; rv:109.0) Gecko/20100101 Firefox/118.0\"}\n",
    "    ddgo_url = \"https://duckduckgo.com/html/?q=\"\n",
    "    \n",
    "    link = ddgo_url + \"metacritic\" + clean_video_title(title)\n",
    "    result = requests.get(link, headers=headers)\n",
    "    \n",
    "    try:\n",
    "        s = soup(result.text, 'html.parser').find_all(\"a\", class_=\"result__url\", href=True)\n",
    "        return s\n",
    "    except:\n",
    "        return []\n",
    "    \n",
    "def first_result_is_metacritic(links_list):\n",
    "    if len(links_list) <= 0:\n",
    "        return False\n",
    "    return \"www.metacritic.com\" in str(links_list[0])\n",
    "\n",
    "def is_game_page(link):\n",
    "    # \"ps5 review\" will very likely bring up all ps5 games on metacritic\n",
    "    # so this is a second filter: whether or not the \"game\" has its own metacritic page\n",
    "    \n",
    "    headers = {\"User-Agent\": \"Mozilla/5.0 (Windows NT 10.0; Win64; x64; rv:109.0) Gecko/20100101 Firefox/118.0\"}\n",
    "    if str(type(link)) == \"<class 'bs4.element.Tag'>\":\n",
    "        link = link.get_text().strip()\n",
    "    \n",
    "    if link.startswith(\"www\"):\n",
    "        link = \"https://\" + link\n",
    "    \n",
    "    result = requests.get(link, headers=headers)\n",
    "    try:\n",
    "        s = soup(result.text, 'html.parser').find(\"div\", class_=\"c-gameReviews\")\n",
    "        return len(s) > 0\n",
    "    except:\n",
    "        return False\n",
    "\n",
    "# search_links = search_video_title(\"Star Wars Battlefront 2 Review\") # video id: 'ow5Jkxv2Qv0'\n",
    "# first_result_is_metacritic(search_links)\n",
    "# search_links = search_video_title(\"PlayStation 5 Review\") # video id: 'QoAZEK52zRc'\n",
    "# first_result_is_metacritic(search_links) # although first is metacritic, should filter for whether or not it's a \"game\" page"
   ]
  },
  {
   "cell_type": "code",
   "execution_count": 88,
   "id": "ad3f63af-ede8-4521-86f2-e37f1a54654a",
   "metadata": {
    "tags": []
   },
   "outputs": [
    {
     "name": "stdout",
     "output_type": "stream",
     "text": [
      "True\n",
      "<a class=\"result__url\" href=\"//duckduckgo.com/l/?uddg=https%3A%2F%2Fwww.metacritic.com%2Fgame%2Fbroken%2Dage%2F&amp;rut=41f7f63386eb806b4f04e2a4f224ec14f8336cb0c9f0a60f96ee89fd0ea3409f\">\n",
      "                  www.metacritic.com/game/broken-age/\n",
      "                  </a>\n"
     ]
    }
   ],
   "source": [
    "fl = search_metacritic_video_title(\"Broken Age: The Complete Adventure Review Commentary\")[0]\n",
    "print(is_game_page(fl))\n",
    "print(fl)"
   ]
  }
 ],
 "metadata": {
  "kernelspec": {
   "display_name": "Python 3 (ipykernel)",
   "language": "python",
   "name": "python3"
  },
  "language_info": {
   "codemirror_mode": {
    "name": "ipython",
    "version": 3
   },
   "file_extension": ".py",
   "mimetype": "text/x-python",
   "name": "python",
   "nbconvert_exporter": "python",
   "pygments_lexer": "ipython3",
   "version": "3.11.5"
  }
 },
 "nbformat": 4,
 "nbformat_minor": 5
}
